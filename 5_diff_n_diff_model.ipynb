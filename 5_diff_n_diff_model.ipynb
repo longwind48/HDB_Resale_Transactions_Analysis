{
 "cells": [
  {
   "cell_type": "markdown",
   "metadata": {
    "deletable": true,
    "editable": true
   },
   "source": [
    "# Difference-in-Differences Model in R"
   ]
  },
  {
   "cell_type": "markdown",
   "metadata": {
    "deletable": true,
    "editable": true
   },
   "source": [
    "By: Traci Lim"
   ]
  },
  {
   "cell_type": "markdown",
   "metadata": {
    "deletable": true,
    "editable": true
   },
   "source": [
    "This notebook attempts to use a DiD model to estimate causal effects of the opening of Singapore's Downtown Line. We are seeking an (hopefully) unbiased estimate of the effect of some policy or treatment on a dependent variable--average price per sqm of resale flats. In this case, the treatment is the opening of downtown line. \n",
    "\n",
    " We confirm that the parallel trends assumption holds using the plot in the '```4_DiD_plot.ipynb```' file. \n",
    "\n",
    "The treatment group consists of flats that are within a 1km geodesic radius to the nearest DTL station from the year 2010 onwards. The control group consists of flats that are outside the 1km geodesic radius to the nearest DTL station from the year 2010 onwards. \n",
    "\n",
    "This notebook was done after the submission of the time-sensitive case study."
   ]
  },
  {
   "cell_type": "markdown",
   "metadata": {
    "deletable": true,
    "editable": true
   },
   "source": [
    "---"
   ]
  },
  {
   "cell_type": "code",
   "execution_count": 6,
   "metadata": {
    "collapsed": true,
    "deletable": true,
    "editable": true
   },
   "outputs": [],
   "source": [
    "within_1km_dt_station_df <- read.csv(\"data/within_1km_dt_station_df.csv\", header = TRUE, stringsAsFactors = FALSE)\n",
    "not_within_1km_dt_station_df <- read.csv(\"data/not_within_1km_dt_station_df.csv\", header = TRUE, stringsAsFactors = FALSE)"
   ]
  },
  {
   "cell_type": "code",
   "execution_count": 4,
   "metadata": {
    "collapsed": false,
    "deletable": true,
    "editable": true
   },
   "outputs": [
    {
     "data": {
      "text/html": [
       "<table>\n",
       "<thead><tr><th scope=col>X</th><th scope=col>block</th><th scope=col>flat_model</th><th scope=col>flat_type</th><th scope=col>floor_area_sqm</th><th scope=col>lease_commence_date</th><th scope=col>month</th><th scope=col>resale_price</th><th scope=col>storey_range</th><th scope=col>street_name</th><th scope=col>...</th><th scope=col>multistorey_carpark</th><th scope=col>precinct_pavilion</th><th scope=col>year</th><th scope=col>distance_to_city</th><th scope=col>year_month</th><th scope=col>distance_to_nearest_downtown_station</th><th scope=col>price_per_sqm</th><th scope=col>num_months_from_jan_2010</th><th scope=col>avg_price_per_sqm</th><th scope=col>log_avg_price_per_sqm</th></tr></thead>\n",
       "<tbody>\n",
       "\t<tr><td>0               </td><td>208             </td><td>New Generation  </td><td>3 ROOM          </td><td> 73             </td><td>1976            </td><td>1               </td><td>304000          </td><td>10 TO 12        </td><td>ANG MO KIO AVE 1</td><td>...             </td><td>N               </td><td>N               </td><td>2010            </td><td>7.546926        </td><td>2010-1          </td><td>5.649688        </td><td>4164.384        </td><td>1               </td><td>3668.978        </td><td>8.207668        </td></tr>\n",
       "\t<tr><td>1               </td><td>220             </td><td>Adjoined flat   </td><td>5 ROOM          </td><td>134             </td><td>1977            </td><td>1               </td><td>455000          </td><td>07 TO 09        </td><td>ANG MO KIO AVE 1</td><td>...             </td><td>N               </td><td>N               </td><td>2010            </td><td>7.489863        </td><td>2010-1          </td><td>5.535630        </td><td>3395.522        </td><td>1               </td><td>3668.978        </td><td>8.207668        </td></tr>\n",
       "\t<tr><td>2               </td><td>319             </td><td>New Generation  </td><td>4 ROOM          </td><td> 98             </td><td>1977            </td><td>1               </td><td>410000          </td><td>04 TO 06        </td><td>ANG MO KIO AVE 1</td><td>...             </td><td>N               </td><td>N               </td><td>2010            </td><td>7.688310        </td><td>2010-1          </td><td>5.517100        </td><td>4183.673        </td><td>1               </td><td>3668.978        </td><td>8.207668        </td></tr>\n",
       "\t<tr><td>3               </td><td>319             </td><td>New Generation  </td><td>3 ROOM          </td><td> 73             </td><td>1977            </td><td>1               </td><td>307000          </td><td>04 TO 06        </td><td>ANG MO KIO AVE 1</td><td>...             </td><td>N               </td><td>N               </td><td>2010            </td><td>7.688310        </td><td>2010-1          </td><td>5.517100        </td><td>4205.479        </td><td>1               </td><td>3668.978        </td><td>8.207668        </td></tr>\n",
       "\t<tr><td>4               </td><td>306             </td><td>Standard        </td><td>5 ROOM          </td><td>123             </td><td>1977            </td><td>1               </td><td>505000          </td><td>01 TO 03        </td><td>ANG MO KIO AVE 1</td><td>...             </td><td>N               </td><td>N               </td><td>2010            </td><td>7.687628        </td><td>2010-1          </td><td>5.667862        </td><td>4105.691        </td><td>1               </td><td>3668.978        </td><td>8.207668        </td></tr>\n",
       "\t<tr><td>5               </td><td>330             </td><td>New Generation  </td><td>3 ROOM          </td><td> 68             </td><td>1981            </td><td>1               </td><td>269000          </td><td>10 TO 12        </td><td>ANG MO KIO AVE 1</td><td>...             </td><td>                </td><td>                </td><td>2010            </td><td>7.581604        </td><td>2010-1          </td><td>5.065413        </td><td>3955.882        </td><td>1               </td><td>3668.978        </td><td>8.207668        </td></tr>\n",
       "</tbody>\n",
       "</table>\n"
      ],
      "text/latex": [
       "\\begin{tabular}{r|llllllllllllllllllllllllllllllll}\n",
       " X & block & flat\\_model & flat\\_type & floor\\_area\\_sqm & lease\\_commence\\_date & month & resale\\_price & storey\\_range & street\\_name & ... & multistorey\\_carpark & precinct\\_pavilion & year & distance\\_to\\_city & year\\_month & distance\\_to\\_nearest\\_downtown\\_station & price\\_per\\_sqm & num\\_months\\_from\\_jan\\_2010 & avg\\_price\\_per\\_sqm & log\\_avg\\_price\\_per\\_sqm\\\\\n",
       "\\hline\n",
       "\t 0                & 208              & New Generation   & 3 ROOM           &  73              & 1976             & 1                & 304000           & 10 TO 12         & ANG MO KIO AVE 1 & ...              & N                & N                & 2010             & 7.546926         & 2010-1           & 5.649688         & 4164.384         & 1                & 3668.978         & 8.207668        \\\\\n",
       "\t 1                & 220              & Adjoined flat    & 5 ROOM           & 134              & 1977             & 1                & 455000           & 07 TO 09         & ANG MO KIO AVE 1 & ...              & N                & N                & 2010             & 7.489863         & 2010-1           & 5.535630         & 3395.522         & 1                & 3668.978         & 8.207668        \\\\\n",
       "\t 2                & 319              & New Generation   & 4 ROOM           &  98              & 1977             & 1                & 410000           & 04 TO 06         & ANG MO KIO AVE 1 & ...              & N                & N                & 2010             & 7.688310         & 2010-1           & 5.517100         & 4183.673         & 1                & 3668.978         & 8.207668        \\\\\n",
       "\t 3                & 319              & New Generation   & 3 ROOM           &  73              & 1977             & 1                & 307000           & 04 TO 06         & ANG MO KIO AVE 1 & ...              & N                & N                & 2010             & 7.688310         & 2010-1           & 5.517100         & 4205.479         & 1                & 3668.978         & 8.207668        \\\\\n",
       "\t 4                & 306              & Standard         & 5 ROOM           & 123              & 1977             & 1                & 505000           & 01 TO 03         & ANG MO KIO AVE 1 & ...              & N                & N                & 2010             & 7.687628         & 2010-1           & 5.667862         & 4105.691         & 1                & 3668.978         & 8.207668        \\\\\n",
       "\t 5                & 330              & New Generation   & 3 ROOM           &  68              & 1981             & 1                & 269000           & 10 TO 12         & ANG MO KIO AVE 1 & ...              &                  &                  & 2010             & 7.581604         & 2010-1           & 5.065413         & 3955.882         & 1                & 3668.978         & 8.207668        \\\\\n",
       "\\end{tabular}\n"
      ],
      "text/markdown": [
       "\n",
       "X | block | flat_model | flat_type | floor_area_sqm | lease_commence_date | month | resale_price | storey_range | street_name | ... | multistorey_carpark | precinct_pavilion | year | distance_to_city | year_month | distance_to_nearest_downtown_station | price_per_sqm | num_months_from_jan_2010 | avg_price_per_sqm | log_avg_price_per_sqm | \n",
       "|---|---|---|---|---|---|\n",
       "| 0                | 208              | New Generation   | 3 ROOM           |  73              | 1976             | 1                | 304000           | 10 TO 12         | ANG MO KIO AVE 1 | ...              | N                | N                | 2010             | 7.546926         | 2010-1           | 5.649688         | 4164.384         | 1                | 3668.978         | 8.207668         | \n",
       "| 1                | 220              | Adjoined flat    | 5 ROOM           | 134              | 1977             | 1                | 455000           | 07 TO 09         | ANG MO KIO AVE 1 | ...              | N                | N                | 2010             | 7.489863         | 2010-1           | 5.535630         | 3395.522         | 1                | 3668.978         | 8.207668         | \n",
       "| 2                | 319              | New Generation   | 4 ROOM           |  98              | 1977             | 1                | 410000           | 04 TO 06         | ANG MO KIO AVE 1 | ...              | N                | N                | 2010             | 7.688310         | 2010-1           | 5.517100         | 4183.673         | 1                | 3668.978         | 8.207668         | \n",
       "| 3                | 319              | New Generation   | 3 ROOM           |  73              | 1977             | 1                | 307000           | 04 TO 06         | ANG MO KIO AVE 1 | ...              | N                | N                | 2010             | 7.688310         | 2010-1           | 5.517100         | 4205.479         | 1                | 3668.978         | 8.207668         | \n",
       "| 4                | 306              | Standard         | 5 ROOM           | 123              | 1977             | 1                | 505000           | 01 TO 03         | ANG MO KIO AVE 1 | ...              | N                | N                | 2010             | 7.687628         | 2010-1           | 5.667862         | 4105.691         | 1                | 3668.978         | 8.207668         | \n",
       "| 5                | 330              | New Generation   | 3 ROOM           |  68              | 1981             | 1                | 269000           | 10 TO 12         | ANG MO KIO AVE 1 | ...              |                  |                  | 2010             | 7.581604         | 2010-1           | 5.065413         | 3955.882         | 1                | 3668.978         | 8.207668         | \n",
       "\n",
       "\n"
      ],
      "text/plain": [
       "  X block flat_model     flat_type floor_area_sqm lease_commence_date month\n",
       "1 0 208   New Generation 3 ROOM     73            1976                1    \n",
       "2 1 220   Adjoined flat  5 ROOM    134            1977                1    \n",
       "3 2 319   New Generation 4 ROOM     98            1977                1    \n",
       "4 3 319   New Generation 3 ROOM     73            1977                1    \n",
       "5 4 306   Standard       5 ROOM    123            1977                1    \n",
       "6 5 330   New Generation 3 ROOM     68            1981                1    \n",
       "  resale_price storey_range street_name      ... multistorey_carpark\n",
       "1 304000       10 TO 12     ANG MO KIO AVE 1 ... N                  \n",
       "2 455000       07 TO 09     ANG MO KIO AVE 1 ... N                  \n",
       "3 410000       04 TO 06     ANG MO KIO AVE 1 ... N                  \n",
       "4 307000       04 TO 06     ANG MO KIO AVE 1 ... N                  \n",
       "5 505000       01 TO 03     ANG MO KIO AVE 1 ... N                  \n",
       "6 269000       10 TO 12     ANG MO KIO AVE 1 ...                    \n",
       "  precinct_pavilion year distance_to_city year_month\n",
       "1 N                 2010 7.546926         2010-1    \n",
       "2 N                 2010 7.489863         2010-1    \n",
       "3 N                 2010 7.688310         2010-1    \n",
       "4 N                 2010 7.688310         2010-1    \n",
       "5 N                 2010 7.687628         2010-1    \n",
       "6                   2010 7.581604         2010-1    \n",
       "  distance_to_nearest_downtown_station price_per_sqm num_months_from_jan_2010\n",
       "1 5.649688                             4164.384      1                       \n",
       "2 5.535630                             3395.522      1                       \n",
       "3 5.517100                             4183.673      1                       \n",
       "4 5.517100                             4205.479      1                       \n",
       "5 5.667862                             4105.691      1                       \n",
       "6 5.065413                             3955.882      1                       \n",
       "  avg_price_per_sqm log_avg_price_per_sqm\n",
       "1 3668.978          8.207668             \n",
       "2 3668.978          8.207668             \n",
       "3 3668.978          8.207668             \n",
       "4 3668.978          8.207668             \n",
       "5 3668.978          8.207668             \n",
       "6 3668.978          8.207668             "
      ]
     },
     "metadata": {},
     "output_type": "display_data"
    }
   ],
   "source": [
    "head(not_within_1km_dt_station_df)"
   ]
  },
  {
   "cell_type": "code",
   "execution_count": 7,
   "metadata": {
    "collapsed": true,
    "deletable": true,
    "editable": true
   },
   "outputs": [],
   "source": [
    "within_1km_dt_station_df$treated <- 1\n",
    "not_within_1km_dt_station_df$treated <- 0"
   ]
  },
  {
   "cell_type": "code",
   "execution_count": 8,
   "metadata": {
    "collapsed": true,
    "deletable": true,
    "editable": true
   },
   "outputs": [],
   "source": [
    "within_1km_dt_station_df$time <- ifelse(within_1km_dt_station_df$num_months_from_jan_2010 >= 48, 1, 0)\n",
    "not_within_1km_dt_station_df$time <- ifelse(not_within_1km_dt_station_df$num_months_from_jan_2010 >= 48, 1, 0)"
   ]
  },
  {
   "cell_type": "code",
   "execution_count": 10,
   "metadata": {
    "collapsed": true,
    "deletable": true,
    "editable": true
   },
   "outputs": [],
   "source": [
    "within_1km_dt_station_df$did <- within_1km_dt_station_df$treated * within_1km_dt_station_df$time\n",
    "not_within_1km_dt_station_df$did <- not_within_1km_dt_station_df$treated * not_within_1km_dt_station_df$time"
   ]
  },
  {
   "cell_type": "code",
   "execution_count": 11,
   "metadata": {
    "collapsed": false,
    "deletable": true,
    "editable": true
   },
   "outputs": [
    {
     "data": {
      "text/html": [
       "<table>\n",
       "<thead><tr><th scope=col>X</th><th scope=col>block</th><th scope=col>flat_model</th><th scope=col>flat_type</th><th scope=col>floor_area_sqm</th><th scope=col>lease_commence_date</th><th scope=col>month</th><th scope=col>resale_price</th><th scope=col>storey_range</th><th scope=col>street_name</th><th scope=col>...</th><th scope=col>distance_to_city</th><th scope=col>year_month</th><th scope=col>distance_to_nearest_downtown_station</th><th scope=col>price_per_sqm</th><th scope=col>num_months_from_jan_2010</th><th scope=col>avg_price_per_sqm</th><th scope=col>log_avg_price_per_sqm</th><th scope=col>treated</th><th scope=col>time</th><th scope=col>did</th></tr></thead>\n",
       "<tbody>\n",
       "\t<tr><td>0               </td><td>208             </td><td>New Generation  </td><td>3 ROOM          </td><td> 73             </td><td>1976            </td><td>1               </td><td>304000          </td><td>10 TO 12        </td><td>ANG MO KIO AVE 1</td><td>...             </td><td>7.546926        </td><td>2010-1          </td><td>5.649688        </td><td>4164.384        </td><td>1               </td><td>3668.978        </td><td>8.207668        </td><td>0               </td><td>0               </td><td>0               </td></tr>\n",
       "\t<tr><td>1               </td><td>220             </td><td>Adjoined flat   </td><td>5 ROOM          </td><td>134             </td><td>1977            </td><td>1               </td><td>455000          </td><td>07 TO 09        </td><td>ANG MO KIO AVE 1</td><td>...             </td><td>7.489863        </td><td>2010-1          </td><td>5.535630        </td><td>3395.522        </td><td>1               </td><td>3668.978        </td><td>8.207668        </td><td>0               </td><td>0               </td><td>0               </td></tr>\n",
       "\t<tr><td>2               </td><td>319             </td><td>New Generation  </td><td>4 ROOM          </td><td> 98             </td><td>1977            </td><td>1               </td><td>410000          </td><td>04 TO 06        </td><td>ANG MO KIO AVE 1</td><td>...             </td><td>7.688310        </td><td>2010-1          </td><td>5.517100        </td><td>4183.673        </td><td>1               </td><td>3668.978        </td><td>8.207668        </td><td>0               </td><td>0               </td><td>0               </td></tr>\n",
       "\t<tr><td>3               </td><td>319             </td><td>New Generation  </td><td>3 ROOM          </td><td> 73             </td><td>1977            </td><td>1               </td><td>307000          </td><td>04 TO 06        </td><td>ANG MO KIO AVE 1</td><td>...             </td><td>7.688310        </td><td>2010-1          </td><td>5.517100        </td><td>4205.479        </td><td>1               </td><td>3668.978        </td><td>8.207668        </td><td>0               </td><td>0               </td><td>0               </td></tr>\n",
       "\t<tr><td>4               </td><td>306             </td><td>Standard        </td><td>5 ROOM          </td><td>123             </td><td>1977            </td><td>1               </td><td>505000          </td><td>01 TO 03        </td><td>ANG MO KIO AVE 1</td><td>...             </td><td>7.687628        </td><td>2010-1          </td><td>5.667862        </td><td>4105.691        </td><td>1               </td><td>3668.978        </td><td>8.207668        </td><td>0               </td><td>0               </td><td>0               </td></tr>\n",
       "\t<tr><td>5               </td><td>330             </td><td>New Generation  </td><td>3 ROOM          </td><td> 68             </td><td>1981            </td><td>1               </td><td>269000          </td><td>10 TO 12        </td><td>ANG MO KIO AVE 1</td><td>...             </td><td>7.581604        </td><td>2010-1          </td><td>5.065413        </td><td>3955.882        </td><td>1               </td><td>3668.978        </td><td>8.207668        </td><td>0               </td><td>0               </td><td>0               </td></tr>\n",
       "</tbody>\n",
       "</table>\n"
      ],
      "text/latex": [
       "\\begin{tabular}{r|lllllllllllllllllllllllllllllllllll}\n",
       " X & block & flat\\_model & flat\\_type & floor\\_area\\_sqm & lease\\_commence\\_date & month & resale\\_price & storey\\_range & street\\_name & ... & distance\\_to\\_city & year\\_month & distance\\_to\\_nearest\\_downtown\\_station & price\\_per\\_sqm & num\\_months\\_from\\_jan\\_2010 & avg\\_price\\_per\\_sqm & log\\_avg\\_price\\_per\\_sqm & treated & time & did\\\\\n",
       "\\hline\n",
       "\t 0                & 208              & New Generation   & 3 ROOM           &  73              & 1976             & 1                & 304000           & 10 TO 12         & ANG MO KIO AVE 1 & ...              & 7.546926         & 2010-1           & 5.649688         & 4164.384         & 1                & 3668.978         & 8.207668         & 0                & 0                & 0               \\\\\n",
       "\t 1                & 220              & Adjoined flat    & 5 ROOM           & 134              & 1977             & 1                & 455000           & 07 TO 09         & ANG MO KIO AVE 1 & ...              & 7.489863         & 2010-1           & 5.535630         & 3395.522         & 1                & 3668.978         & 8.207668         & 0                & 0                & 0               \\\\\n",
       "\t 2                & 319              & New Generation   & 4 ROOM           &  98              & 1977             & 1                & 410000           & 04 TO 06         & ANG MO KIO AVE 1 & ...              & 7.688310         & 2010-1           & 5.517100         & 4183.673         & 1                & 3668.978         & 8.207668         & 0                & 0                & 0               \\\\\n",
       "\t 3                & 319              & New Generation   & 3 ROOM           &  73              & 1977             & 1                & 307000           & 04 TO 06         & ANG MO KIO AVE 1 & ...              & 7.688310         & 2010-1           & 5.517100         & 4205.479         & 1                & 3668.978         & 8.207668         & 0                & 0                & 0               \\\\\n",
       "\t 4                & 306              & Standard         & 5 ROOM           & 123              & 1977             & 1                & 505000           & 01 TO 03         & ANG MO KIO AVE 1 & ...              & 7.687628         & 2010-1           & 5.667862         & 4105.691         & 1                & 3668.978         & 8.207668         & 0                & 0                & 0               \\\\\n",
       "\t 5                & 330              & New Generation   & 3 ROOM           &  68              & 1981             & 1                & 269000           & 10 TO 12         & ANG MO KIO AVE 1 & ...              & 7.581604         & 2010-1           & 5.065413         & 3955.882         & 1                & 3668.978         & 8.207668         & 0                & 0                & 0               \\\\\n",
       "\\end{tabular}\n"
      ],
      "text/markdown": [
       "\n",
       "X | block | flat_model | flat_type | floor_area_sqm | lease_commence_date | month | resale_price | storey_range | street_name | ... | distance_to_city | year_month | distance_to_nearest_downtown_station | price_per_sqm | num_months_from_jan_2010 | avg_price_per_sqm | log_avg_price_per_sqm | treated | time | did | \n",
       "|---|---|---|---|---|---|\n",
       "| 0                | 208              | New Generation   | 3 ROOM           |  73              | 1976             | 1                | 304000           | 10 TO 12         | ANG MO KIO AVE 1 | ...              | 7.546926         | 2010-1           | 5.649688         | 4164.384         | 1                | 3668.978         | 8.207668         | 0                | 0                | 0                | \n",
       "| 1                | 220              | Adjoined flat    | 5 ROOM           | 134              | 1977             | 1                | 455000           | 07 TO 09         | ANG MO KIO AVE 1 | ...              | 7.489863         | 2010-1           | 5.535630         | 3395.522         | 1                | 3668.978         | 8.207668         | 0                | 0                | 0                | \n",
       "| 2                | 319              | New Generation   | 4 ROOM           |  98              | 1977             | 1                | 410000           | 04 TO 06         | ANG MO KIO AVE 1 | ...              | 7.688310         | 2010-1           | 5.517100         | 4183.673         | 1                | 3668.978         | 8.207668         | 0                | 0                | 0                | \n",
       "| 3                | 319              | New Generation   | 3 ROOM           |  73              | 1977             | 1                | 307000           | 04 TO 06         | ANG MO KIO AVE 1 | ...              | 7.688310         | 2010-1           | 5.517100         | 4205.479         | 1                | 3668.978         | 8.207668         | 0                | 0                | 0                | \n",
       "| 4                | 306              | Standard         | 5 ROOM           | 123              | 1977             | 1                | 505000           | 01 TO 03         | ANG MO KIO AVE 1 | ...              | 7.687628         | 2010-1           | 5.667862         | 4105.691         | 1                | 3668.978         | 8.207668         | 0                | 0                | 0                | \n",
       "| 5                | 330              | New Generation   | 3 ROOM           |  68              | 1981             | 1                | 269000           | 10 TO 12         | ANG MO KIO AVE 1 | ...              | 7.581604         | 2010-1           | 5.065413         | 3955.882         | 1                | 3668.978         | 8.207668         | 0                | 0                | 0                | \n",
       "\n",
       "\n"
      ],
      "text/plain": [
       "  X block flat_model     flat_type floor_area_sqm lease_commence_date month\n",
       "1 0 208   New Generation 3 ROOM     73            1976                1    \n",
       "2 1 220   Adjoined flat  5 ROOM    134            1977                1    \n",
       "3 2 319   New Generation 4 ROOM     98            1977                1    \n",
       "4 3 319   New Generation 3 ROOM     73            1977                1    \n",
       "5 4 306   Standard       5 ROOM    123            1977                1    \n",
       "6 5 330   New Generation 3 ROOM     68            1981                1    \n",
       "  resale_price storey_range street_name      ... distance_to_city year_month\n",
       "1 304000       10 TO 12     ANG MO KIO AVE 1 ... 7.546926         2010-1    \n",
       "2 455000       07 TO 09     ANG MO KIO AVE 1 ... 7.489863         2010-1    \n",
       "3 410000       04 TO 06     ANG MO KIO AVE 1 ... 7.688310         2010-1    \n",
       "4 307000       04 TO 06     ANG MO KIO AVE 1 ... 7.688310         2010-1    \n",
       "5 505000       01 TO 03     ANG MO KIO AVE 1 ... 7.687628         2010-1    \n",
       "6 269000       10 TO 12     ANG MO KIO AVE 1 ... 7.581604         2010-1    \n",
       "  distance_to_nearest_downtown_station price_per_sqm num_months_from_jan_2010\n",
       "1 5.649688                             4164.384      1                       \n",
       "2 5.535630                             3395.522      1                       \n",
       "3 5.517100                             4183.673      1                       \n",
       "4 5.517100                             4205.479      1                       \n",
       "5 5.667862                             4105.691      1                       \n",
       "6 5.065413                             3955.882      1                       \n",
       "  avg_price_per_sqm log_avg_price_per_sqm treated time did\n",
       "1 3668.978          8.207668              0       0    0  \n",
       "2 3668.978          8.207668              0       0    0  \n",
       "3 3668.978          8.207668              0       0    0  \n",
       "4 3668.978          8.207668              0       0    0  \n",
       "5 3668.978          8.207668              0       0    0  \n",
       "6 3668.978          8.207668              0       0    0  "
      ]
     },
     "metadata": {},
     "output_type": "display_data"
    }
   ],
   "source": [
    "head(not_within_1km_dt_station_df)"
   ]
  },
  {
   "cell_type": "code",
   "execution_count": 12,
   "metadata": {
    "collapsed": true,
    "deletable": true,
    "editable": true
   },
   "outputs": [],
   "source": [
    "df <- rbind(within_1km_dt_station_df, not_within_1km_dt_station_df)"
   ]
  },
  {
   "cell_type": "code",
   "execution_count": 14,
   "metadata": {
    "collapsed": false,
    "deletable": true,
    "editable": true
   },
   "outputs": [
    {
     "data": {
      "text/html": [
       "<ol class=list-inline>\n",
       "\t<li>685644</li>\n",
       "\t<li>35</li>\n",
       "</ol>\n"
      ],
      "text/latex": [
       "\\begin{enumerate*}\n",
       "\\item 685644\n",
       "\\item 35\n",
       "\\end{enumerate*}\n"
      ],
      "text/markdown": [
       "1. 685644\n",
       "2. 35\n",
       "\n",
       "\n"
      ],
      "text/plain": [
       "[1] 685644     35"
      ]
     },
     "metadata": {},
     "output_type": "display_data"
    }
   ],
   "source": [
    "dim(df)"
   ]
  },
  {
   "cell_type": "code",
   "execution_count": 19,
   "metadata": {
    "collapsed": false,
    "deletable": true,
    "editable": true,
    "scrolled": true
   },
   "outputs": [
    {
     "name": "stdout",
     "output_type": "stream",
     "text": [
      "'data.frame':\t685644 obs. of  35 variables:\n",
      " $ X                                   : int  0 1 2 3 4 5 6 7 8 9 ...\n",
      " $ block                               : chr  \"522\" \"520\" \"519\" \"519\" ...\n",
      " $ flat_model                          : chr  \"New Generation\" \"New Generation\" \"New Generation\" \"New Generation\" ...\n",
      " $ flat_type                           : chr  \"3 ROOM\" \"3 ROOM\" \"3 ROOM\" \"3 ROOM\" ...\n",
      " $ floor_area_sqm                      : num  67 67 67 67 92 67 92 68 92 119 ...\n",
      " $ lease_commence_date                 : int  1979 1979 1979 1979 1979 1979 1979 1980 1980 1978 ...\n",
      " $ month                               : int  1 1 1 1 1 1 1 1 1 1 ...\n",
      " $ resale_price                        : num  236000 245000 249000 242000 339000 252000 355000 260000 370000 503000 ...\n",
      " $ storey_range                        : chr  \"01 TO 03\" \"07 TO 09\" \"04 TO 06\" \"10 TO 12\" ...\n",
      " $ street_name                         : chr  \"BEDOK NTH AVE 1\" \"BEDOK NTH AVE 1\" \"BEDOK NTH AVE 1\" \"BEDOK NTH AVE 1\" ...\n",
      " $ town                                : chr  \"BEDOK\" \"BEDOK\" \"BEDOK\" \"BEDOK\" ...\n",
      " $ full_address                        : chr  \"522 BEDOK NTH AVE 1\" \"520 BEDOK NTH AVE 1\" \"519 BEDOK NTH AVE 1\" \"519 BEDOK NTH AVE 1\" ...\n",
      " $ LATITUDE                            : num  1.33 1.33 1.33 1.33 1.33 ...\n",
      " $ LONGITUDE                           : num  104 104 104 104 104 ...\n",
      " $ distance_to_nearest_sch             : num  0.535 0.405 0.423 0.423 0.423 ...\n",
      " $ distance_to_nearest_station         : num  0.768 0.706 0.752 0.752 0.752 ...\n",
      " $ lat_long                            : chr  \"('1.33066302927678', '103.92698039611')\" \"('1.33046461779261', '103.92813426172')\" \"('1.33087614142098', '103.928059854349')\" \"('1.33087614142098', '103.928059854349')\" ...\n",
      " $ max_floor_lvl                       : num  12 12 12 12 12 NA 12 11 12 NA ...\n",
      " $ year_completed                      : num  1978 1978 1978 1978 1978 ...\n",
      " $ residential                         : chr  \"Y\" \"Y\" \"Y\" \"Y\" ...\n",
      " $ market_hawker                       : chr  \"N\" \"N\" \"N\" \"N\" ...\n",
      " $ miscellaneous                       : chr  \"Y\" \"Y\" \"Y\" \"Y\" ...\n",
      " $ multistorey_carpark                 : chr  \"N\" \"N\" \"N\" \"N\" ...\n",
      " $ precinct_pavilion                   : chr  \"N\" \"N\" \"N\" \"N\" ...\n",
      " $ year                                : int  2010 2010 2010 2010 2010 2010 2010 2010 2010 2010 ...\n",
      " $ distance_to_city                    : num  12.2 12.3 12.3 12.3 12.3 ...\n",
      " $ year_month                          : chr  \"2010-1\" \"2010-1\" \"2010-1\" \"2010-1\" ...\n",
      " $ distance_to_nearest_downtown_station: num  0.88 0.818 0.786 0.786 0.786 ...\n",
      " $ price_per_sqm                       : num  3522 3657 3716 3612 3685 ...\n",
      " $ num_months_from_jan_2010            : int  1 1 1 1 1 1 1 1 1 1 ...\n",
      " $ avg_price_per_sqm                   : num  3689 3689 3689 3689 3689 ...\n",
      " $ log_avg_price_per_sqm               : num  8.21 8.21 8.21 8.21 8.21 ...\n",
      " $ treated                             : num  1 1 1 1 1 1 1 1 1 1 ...\n",
      " $ time                                : num  0 0 0 0 0 0 0 0 0 0 ...\n",
      " $ did                                 : num  0 0 0 0 0 0 0 0 0 0 ...\n"
     ]
    }
   ],
   "source": [
    "str(df)"
   ]
  },
  {
   "cell_type": "markdown",
   "metadata": {
    "deletable": true,
    "editable": true
   },
   "source": [
    "### Estimating the DID estimator"
   ]
  },
  {
   "cell_type": "code",
   "execution_count": 25,
   "metadata": {
    "collapsed": false,
    "deletable": true,
    "editable": true
   },
   "outputs": [
    {
     "data": {
      "text/plain": [
       "\n",
       "Call:\n",
       "lm(formula = log_avg_price_per_sqm ~ treated + time + did, data = df)\n",
       "\n",
       "Residuals:\n",
       "      Min        1Q    Median        3Q       Max \n",
       "-0.187719 -0.022983 -0.007261  0.052923  0.149679 \n",
       "\n",
       "Coefficients:\n",
       "             Estimate Std. Error  t value Pr(>|t|)    \n",
       "(Intercept) 8.3901195  0.0001393 60214.24   <2e-16 ***\n",
       "treated     0.0105795  0.0003263    32.43   <2e-16 ***\n",
       "time        0.0278074  0.0002050   135.63   <2e-16 ***\n",
       "did         0.0388501  0.0004766    81.52   <2e-16 ***\n",
       "---\n",
       "Signif. codes:  0 '***' 0.001 '**' 0.01 '*' 0.05 '.' 0.1 ' ' 1\n",
       "\n",
       "Residual standard error: 0.07642 on 685640 degrees of freedom\n",
       "Multiple R-squared:  0.07719,\tAdjusted R-squared:  0.07718 \n",
       "F-statistic: 1.912e+04 on 3 and 685640 DF,  p-value: < 2.2e-16\n"
      ]
     },
     "metadata": {},
     "output_type": "display_data"
    }
   ],
   "source": [
    "didreg_1 = lm(log_avg_price_per_sqm ~ treated + time + did, data = df)\n",
    "summary(didreg_1)"
   ]
  },
  {
   "cell_type": "markdown",
   "metadata": {
    "deletable": true,
    "editable": true
   },
   "source": [
    "The above regression results are computed with log-average-price-per-sqm as the dependent variable. The average price per sqm is calculated by taking the average of all price per sqm of all flats on a specific year-month. \n",
    "The treatment variable ```treated``` is defined as 1 if the flat falls within a 1km radius to the nearest DTL station, and 0 otherwise.\n",
    "```time``` is a time dummy that has a value of 1 if a transaction occurs after stage 1 (start of DTL operations), and 0 otherwise. \n",
    "The interaction variable ```did``` captures the treatment effect of stage 1 on log-average-price-per-sqm.\n",
    "\n",
    "The coefficient for ```did``` is the differences-in-differences estimator. The effect is significant at 3.9% with the treatment having a positive effect on the log-average-price-per-sqm of resale flats. The coefficient of ```time``` gets a positive value, which can be interpreted as: the average price per sqm of resale flats was experiencing a small 2.7% growth over time after the opening of DTL, regardless of its proximity to a DTL station.\n",
    "\n",
    "We can introduce a new model that controls for housing specific attributes (such as unit area, floor, property type, lease type), and location-related amenities (such as distance to CBD, distance to nearest school, distance to nearest mrt station, etc.). It is inaccurate to use geodesic distance, as some flats can faced certain topological constraints, like a water body or an expressway blocking the fastest route to the station. "
   ]
  },
  {
   "cell_type": "code",
   "execution_count": null,
   "metadata": {
    "collapsed": true,
    "deletable": true,
    "editable": true
   },
   "outputs": [],
   "source": []
  }
 ],
 "metadata": {
  "kernelspec": {
   "display_name": "R",
   "language": "R",
   "name": "ir"
  },
  "language_info": {
   "codemirror_mode": "r",
   "file_extension": ".r",
   "mimetype": "text/x-r-source",
   "name": "R",
   "pygments_lexer": "r",
   "version": "3.4.2"
  }
 },
 "nbformat": 4,
 "nbformat_minor": 2
}
