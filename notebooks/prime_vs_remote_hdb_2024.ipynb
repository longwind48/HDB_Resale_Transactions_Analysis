{
 "cells": [
  {
   "cell_type": "markdown",
   "metadata": {},
   "source": [
    "# Background\n",
    "\n",
    "Objectives:\n",
    "- To answer the question \"Decide between a prime-location HDB or a more remote HDB\""
   ]
  },
  {
   "cell_type": "markdown",
   "metadata": {},
   "source": [
    "# Import Libraries"
   ]
  },
  {
   "cell_type": "code",
   "execution_count": 3,
   "metadata": {},
   "outputs": [],
   "source": [
    "import os\n",
    "os.chdir(\"../\")"
   ]
  },
  {
   "cell_type": "code",
   "execution_count": 4,
   "metadata": {},
   "outputs": [],
   "source": [
    "import pandas as pd"
   ]
  },
  {
   "cell_type": "markdown",
   "metadata": {},
   "source": [
    "# Import Data"
   ]
  },
  {
   "cell_type": "code",
   "execution_count": 5,
   "metadata": {},
   "outputs": [],
   "source": [
    "df = pd.read_parquet('data/raw/resale_hdb_data.parquet')"
   ]
  },
  {
   "cell_type": "code",
   "execution_count": 6,
   "metadata": {},
   "outputs": [],
   "source": [
    "df[\"resale_price\"] = df[\"resale_price\"].astype(float)\n",
    "df[\"floor_area_sqft\"] = df[\"floor_area_sqm\"].astype(float) * 10.7639\n",
    "df[\"price_per_sqft\"] = df[\"resale_price\"] / df[\"floor_area_sqft\"]\n",
    "df[\"year\"] = df[\"month\"].apply(lambda x: x[:4])"
   ]
  },
  {
   "cell_type": "code",
   "execution_count": 7,
   "metadata": {},
   "outputs": [
    {
     "data": {
      "text/html": [
       "<div>\n",
       "<style scoped>\n",
       "    .dataframe tbody tr th:only-of-type {\n",
       "        vertical-align: middle;\n",
       "    }\n",
       "\n",
       "    .dataframe tbody tr th {\n",
       "        vertical-align: top;\n",
       "    }\n",
       "\n",
       "    .dataframe thead th {\n",
       "        text-align: right;\n",
       "    }\n",
       "</style>\n",
       "<table border=\"1\" class=\"dataframe\">\n",
       "  <thead>\n",
       "    <tr style=\"text-align: right;\">\n",
       "      <th></th>\n",
       "      <th>_id</th>\n",
       "      <th>month</th>\n",
       "      <th>town</th>\n",
       "      <th>flat_type</th>\n",
       "      <th>block</th>\n",
       "      <th>street_name</th>\n",
       "      <th>storey_range</th>\n",
       "      <th>floor_area_sqm</th>\n",
       "      <th>flat_model</th>\n",
       "      <th>lease_commence_date</th>\n",
       "      <th>resale_price</th>\n",
       "      <th>remaining_lease</th>\n",
       "      <th>floor_area_sqft</th>\n",
       "      <th>price_per_sqft</th>\n",
       "      <th>year</th>\n",
       "    </tr>\n",
       "  </thead>\n",
       "  <tbody>\n",
       "    <tr>\n",
       "      <th>0</th>\n",
       "      <td>1</td>\n",
       "      <td>2000-01</td>\n",
       "      <td>ANG MO KIO</td>\n",
       "      <td>3 ROOM</td>\n",
       "      <td>170</td>\n",
       "      <td>ANG MO KIO AVE 4</td>\n",
       "      <td>07 TO 09</td>\n",
       "      <td>69</td>\n",
       "      <td>Improved</td>\n",
       "      <td>1986</td>\n",
       "      <td>147000.0</td>\n",
       "      <td>None</td>\n",
       "      <td>742.7091</td>\n",
       "      <td>197.924059</td>\n",
       "      <td>2000</td>\n",
       "    </tr>\n",
       "    <tr>\n",
       "      <th>1</th>\n",
       "      <td>2</td>\n",
       "      <td>2000-01</td>\n",
       "      <td>ANG MO KIO</td>\n",
       "      <td>3 ROOM</td>\n",
       "      <td>174</td>\n",
       "      <td>ANG MO KIO AVE 4</td>\n",
       "      <td>04 TO 06</td>\n",
       "      <td>61</td>\n",
       "      <td>Improved</td>\n",
       "      <td>1986</td>\n",
       "      <td>144000.0</td>\n",
       "      <td>None</td>\n",
       "      <td>656.5979</td>\n",
       "      <td>219.312307</td>\n",
       "      <td>2000</td>\n",
       "    </tr>\n",
       "    <tr>\n",
       "      <th>2</th>\n",
       "      <td>3</td>\n",
       "      <td>2000-01</td>\n",
       "      <td>ANG MO KIO</td>\n",
       "      <td>3 ROOM</td>\n",
       "      <td>216</td>\n",
       "      <td>ANG MO KIO AVE 1</td>\n",
       "      <td>07 TO 09</td>\n",
       "      <td>73</td>\n",
       "      <td>New Generation</td>\n",
       "      <td>1976</td>\n",
       "      <td>159000.0</td>\n",
       "      <td>None</td>\n",
       "      <td>785.7647</td>\n",
       "      <td>202.350653</td>\n",
       "      <td>2000</td>\n",
       "    </tr>\n",
       "    <tr>\n",
       "      <th>3</th>\n",
       "      <td>4</td>\n",
       "      <td>2000-01</td>\n",
       "      <td>ANG MO KIO</td>\n",
       "      <td>3 ROOM</td>\n",
       "      <td>215</td>\n",
       "      <td>ANG MO KIO AVE 1</td>\n",
       "      <td>07 TO 09</td>\n",
       "      <td>73</td>\n",
       "      <td>New Generation</td>\n",
       "      <td>1976</td>\n",
       "      <td>167000.0</td>\n",
       "      <td>None</td>\n",
       "      <td>785.7647</td>\n",
       "      <td>212.531818</td>\n",
       "      <td>2000</td>\n",
       "    </tr>\n",
       "    <tr>\n",
       "      <th>4</th>\n",
       "      <td>5</td>\n",
       "      <td>2000-01</td>\n",
       "      <td>ANG MO KIO</td>\n",
       "      <td>3 ROOM</td>\n",
       "      <td>218</td>\n",
       "      <td>ANG MO KIO AVE 1</td>\n",
       "      <td>07 TO 09</td>\n",
       "      <td>67</td>\n",
       "      <td>New Generation</td>\n",
       "      <td>1976</td>\n",
       "      <td>163000.0</td>\n",
       "      <td>None</td>\n",
       "      <td>721.1813</td>\n",
       "      <td>226.018062</td>\n",
       "      <td>2000</td>\n",
       "    </tr>\n",
       "  </tbody>\n",
       "</table>\n",
       "</div>"
      ],
      "text/plain": [
       "   _id    month        town flat_type block       street_name storey_range  \\\n",
       "0    1  2000-01  ANG MO KIO    3 ROOM   170  ANG MO KIO AVE 4     07 TO 09   \n",
       "1    2  2000-01  ANG MO KIO    3 ROOM   174  ANG MO KIO AVE 4     04 TO 06   \n",
       "2    3  2000-01  ANG MO KIO    3 ROOM   216  ANG MO KIO AVE 1     07 TO 09   \n",
       "3    4  2000-01  ANG MO KIO    3 ROOM   215  ANG MO KIO AVE 1     07 TO 09   \n",
       "4    5  2000-01  ANG MO KIO    3 ROOM   218  ANG MO KIO AVE 1     07 TO 09   \n",
       "\n",
       "  floor_area_sqm      flat_model lease_commence_date  resale_price  \\\n",
       "0             69        Improved                1986      147000.0   \n",
       "1             61        Improved                1986      144000.0   \n",
       "2             73  New Generation                1976      159000.0   \n",
       "3             73  New Generation                1976      167000.0   \n",
       "4             67  New Generation                1976      163000.0   \n",
       "\n",
       "  remaining_lease  floor_area_sqft  price_per_sqft  year  \n",
       "0            None         742.7091      197.924059  2000  \n",
       "1            None         656.5979      219.312307  2000  \n",
       "2            None         785.7647      202.350653  2000  \n",
       "3            None         785.7647      212.531818  2000  \n",
       "4            None         721.1813      226.018062  2000  "
      ]
     },
     "execution_count": 7,
     "metadata": {},
     "output_type": "execute_result"
    }
   ],
   "source": [
    "df.head()"
   ]
  },
  {
   "cell_type": "markdown",
   "metadata": {},
   "source": [
    "# Preliminary Analysis"
   ]
  },
  {
   "cell_type": "code",
   "execution_count": 88,
   "metadata": {},
   "outputs": [],
   "source": [
    "prime_location_towns = [\"BUKIT MERAH\", \"CENTRAL AREA\", \"QUEENSTOWN\", \"KALLANG/WHAMPOA\"]\n",
    "fourrm_prime_2023_mask = (\n",
    "    (df[\"year\"] == \"2023\") & (df[\"town\"].isin(prime_location_towns)) & (df[\"flat_type\"] == \"4 ROOM\")\n",
    ")\n",
    "df_temp = (\n",
    "    df[fourrm_prime_2023_mask]\n",
    "    .groupby([\"town\"])\n",
    "    .agg({\"_id\": \"count\", \"resale_price\": [\"mean\", \"median\"], \"price_per_sqft\": [\"mean\"]})\n",
    "    .reset_index() \\\n",
    "    .sort_values(by=[(\"price_per_sqft\", \"mean\")], ascending=False)\n",
    ")\n",
    "\n",
    "df_temp[\"price_per_sqft\"] = df_temp[\"price_per_sqft\"].round()\n",
    "df_temp.columns = [\"town\", \"count\", \"avg_price\", \"median_price\", \"avg_price_per_sqft\"]"
   ]
  },
  {
   "cell_type": "code",
   "execution_count": 89,
   "metadata": {},
   "outputs": [
    {
     "name": "stdout",
     "output_type": "stream",
     "text": [
      "| town            |   count |   avg_price |   median_price |   avg_price_per_sqft |\n",
      "|:----------------|--------:|------------:|---------------:|---------------------:|\n",
      "| CENTRAL AREA    |      77 |      913977 |         800000 |                  929 |\n",
      "| QUEENSTOWN      |     261 |      859895 |         878000 |                  880 |\n",
      "| BUKIT MERAH     |     428 |      803362 |         845750 |                  803 |\n",
      "| KALLANG/WHAMPOA |     294 |      759759 |         780000 |                  757 |\n"
     ]
    }
   ],
   "source": [
    "print(df_temp.to_markdown(index=False))"
   ]
  },
  {
   "cell_type": "code",
   "execution_count": 39,
   "metadata": {},
   "outputs": [
    {
     "data": {
      "text/plain": [
       "0.09327701513551566"
      ]
     },
     "execution_count": 39,
     "metadata": {},
     "output_type": "execute_result"
    }
   ],
   "source": [
    "# Percentage of 4-room transactions in prime locations vs all locationsc\n",
    "fourrm_all_2023_mask = (df[\"year\"] == \"2023\") & (df[\"flat_type\"] == \"4 ROOM\")\n",
    "len(df[fourrm_prime_2023_mask]) / len(df[fourrm_all_2023_mask])"
   ]
  },
  {
   "cell_type": "code",
   "execution_count": 92,
   "metadata": {},
   "outputs": [
    {
     "name": "stdout",
     "output_type": "stream",
     "text": [
      "| town            |   count |   avg_price |   median_price |   avg_price_per_sqft |\n",
      "|:----------------|--------:|------------:|---------------:|---------------------:|\n",
      "| CHOA CHU KANG   |     596 |      502280 |         500000 |                  471 |\n",
      "| JURONG EAST     |     142 |      490796 |         477500 |                  476 |\n",
      "| JURONG WEST     |     597 |      499462 |         486000 |                  480 |\n",
      "| WOODLANDS       |     958 |      499028 |         495000 |                  484 |\n",
      "| YISHUN          |     870 |      497659 |         498000 |                  496 |\n",
      "| BUKIT PANJANG   |     367 |      515237 |         498000 |                  502 |\n",
      "| PASIR RIS       |     269 |      566849 |         548000 |                  515 |\n",
      "| HOUGANG         |     682 |      546504 |         535000 |                  529 |\n",
      "| TAMPINES        |     674 |      577373 |         565000 |                  543 |\n",
      "| SEMBAWANG       |     528 |      545296 |         552500 |                  544 |\n",
      "| SENGKANG        |    1025 |      568633 |         562888 |                  570 |\n",
      "| BEDOK           |     451 |      572050 |         508000 |                  573 |\n",
      "| BUKIT BATOK     |     651 |      587164 |         593000 |                  580 |\n",
      "| SERANGOON       |     188 |      597864 |         581000 |                  581 |\n",
      "| PUNGGOL         |    1059 |      594850 |         595000 |                  596 |\n",
      "| MARINE PARADE   |      35 |      570257 |         560000 |                  617 |\n",
      "| GEYLANG         |     241 |      640617 |         600000 |                  634 |\n",
      "| ANG MO KIO      |     344 |      648896 |         551500 |                  647 |\n",
      "| BISHAN          |     193 |      707281 |         700000 |                  669 |\n",
      "| CLEMENTI        |     218 |      671117 |         600000 |                  678 |\n",
      "| BUKIT TIMAH     |      16 |      756918 |         775000 |                  706 |\n",
      "| TOA PAYOH       |     200 |      737096 |         760000 |                  741 |\n",
      "| KALLANG/WHAMPOA |     294 |      759759 |         780000 |                  757 |\n",
      "| BUKIT MERAH     |     428 |      803362 |         845750 |                  803 |\n",
      "| QUEENSTOWN      |     261 |      859895 |         878000 |                  880 |\n",
      "| CENTRAL AREA    |      77 |      913977 |         800000 |                  929 |\n"
     ]
    }
   ],
   "source": [
    "fourrm_2023_mask = (df[\"year\"] == \"2023\") & (df[\"flat_type\"] == \"4 ROOM\")\n",
    "df_temp = df[fourrm_all_2023_mask] \\\n",
    "    .groupby([\"town\"]) \\\n",
    "    .agg({\"_id\": \"count\", \"resale_price\": [\"mean\", \"median\"], \"price_per_sqft\": [\"mean\"]}) \\\n",
    "    .reset_index() \\\n",
    "    .sort_values(by=[(\"price_per_sqft\", \"mean\")], ascending=True)\n",
    "\n",
    "# round the price per sqft to whole number\n",
    "df_temp[\"price_per_sqft\"] = df_temp[\"price_per_sqft\"].round()\n",
    "df_temp.columns = [\"town\", \"count\", \"avg_price\", \"median_price\", \"avg_price_per_sqft\"]\n",
    "print(df_temp.to_markdown(index=False))"
   ]
  },
  {
   "cell_type": "markdown",
   "metadata": {},
   "source": [
    "# Calculate Annualized Growth Rate"
   ]
  },
  {
   "cell_type": "code",
   "execution_count": 8,
   "metadata": {},
   "outputs": [
    {
     "name": "stdout",
     "output_type": "stream",
     "text": [
      "Prime Annualized Increase: 5.42%\n",
      "Remote Annualized Increase: 4.59%\n"
     ]
    }
   ],
   "source": [
    "import pandas as pd\n",
    "\n",
    "\n",
    "def calculate_yoy_increase(df):\n",
    "    \"\"\"\n",
    "    Calculate the Year-on-Year (YoY) increase in average resale prices for '4 ROOM' HDB flats\n",
    "    in prime and remote locations.\n",
    "\n",
    "    Args:\n",
    "    df (pd.DataFrame): The DataFrame containing HDB resale data.\n",
    "\n",
    "    Returns:\n",
    "    pd.DataFrame: A DataFrame containing the YoY increase and annualized increase in average resale prices.\n",
    "    \"\"\"\n",
    "    # Define prime and remote towns\n",
    "    prime_towns = [\"BUKIT MERAH\", \"CENTRAL AREA\", \"QUEENSTOWN\", \"KALLANG/WHAMPOA\"]\n",
    "    remote_towns = [\"CHOA CHU KANG\", \"JURONG EAST\", \"JURONG WEST\", \"WOODLANDS\", \"YISHUN\", \"BUKIT PANJANG\", \"PASIR RIS\"]\n",
    "\n",
    "    # Filter for '4 ROOM' flats\n",
    "    mask = (df[\"flat_type\"] == \"4 ROOM\") & (df[\"year\"] >= \"2003\") & (df[\"year\"] <= \"2023\")\n",
    "    df_4_room = df[mask]\n",
    "\n",
    "    # Split data into prime and remote\n",
    "    prime_df = df_4_room[df_4_room[\"town\"].isin(prime_towns)]\n",
    "    remote_df = df_4_room[df_4_room[\"town\"].isin(remote_towns)]\n",
    "\n",
    "    # Calculate yearly average resale price\n",
    "    prime_yearly_avg = prime_df.groupby(\"year\")[\"price_per_sqft\"].mean()\n",
    "    remote_yearly_avg = remote_df.groupby(\"year\")[\"price_per_sqft\"].mean()\n",
    "\n",
    "    # Calculate YoY increase\n",
    "    prime_yoy = prime_yearly_avg.pct_change().fillna(0) * 100\n",
    "    remote_yoy = remote_yearly_avg.pct_change().fillna(0) * 100\n",
    "\n",
    "    # Calculate annualized increase over 20 years\n",
    "    prime_annualized = ((prime_yearly_avg.iloc[-1] / prime_yearly_avg.iloc[0]) ** (1 / 20) - 1) * 100\n",
    "    remote_annualized = ((remote_yearly_avg.iloc[-1] / remote_yearly_avg.iloc[0]) ** (1 / 20) - 1) * 100\n",
    "\n",
    "    # Print annualized increases\n",
    "    print(f\"Prime Annualized Increase: {prime_annualized:.2f}%\")\n",
    "    print(f\"Remote Annualized Increase: {remote_annualized:.2f}%\")\n",
    "\n",
    "    # Prepare final DataFrame\n",
    "    result_df = pd.DataFrame(\n",
    "        {\n",
    "            \"Year\": prime_yoy.index,\n",
    "            \"Prime PSF YoY %\": prime_yoy.values.round(2),\n",
    "            \"Remote PSF YoY %\": remote_yoy.values.round(2),\n",
    "        }\n",
    "    )\n",
    "\n",
    "    return result_df, prime_annualized, remote_annualized\n",
    "\n",
    "\n",
    "df_temp, prime_annualized, remote_annualized = calculate_yoy_increase(df)"
   ]
  },
  {
   "cell_type": "code",
   "execution_count": 9,
   "metadata": {},
   "outputs": [
    {
     "name": "stdout",
     "output_type": "stream",
     "text": [
      "|   Year |   Prime PSF YoY % |   Remote PSF YoY % |\n",
      "|-------:|------------------:|-------------------:|\n",
      "|   2003 |              0    |               0    |\n",
      "|   2004 |              1.26 |               6.1  |\n",
      "|   2005 |             -0.07 |              -1.69 |\n",
      "|   2006 |              4.36 |              -1.13 |\n",
      "|   2007 |             17.89 |               5.58 |\n",
      "|   2008 |             19.47 |              19.53 |\n",
      "|   2009 |              5.06 |               9.72 |\n",
      "|   2010 |             12.86 |              12.7  |\n",
      "|   2011 |             11.11 |              13.75 |\n",
      "|   2012 |             10.06 |               8.1  |\n",
      "|   2013 |              4.96 |               3.15 |\n",
      "|   2014 |             -2.93 |              -7.34 |\n",
      "|   2015 |              3.95 |              -6.18 |\n",
      "|   2016 |             -0.76 |               0.14 |\n",
      "|   2017 |              0.02 |              -1.03 |\n",
      "|   2018 |              1.19 |              -2.89 |\n",
      "|   2019 |             -0.77 |               3.38 |\n",
      "|   2020 |              4.83 |               6.79 |\n",
      "|   2021 |              7.92 |              14.28 |\n",
      "|   2022 |              4.93 |               8.63 |\n",
      "|   2023 |              6.42 |               4.85 |\n"
     ]
    }
   ],
   "source": [
    "print(df_temp.to_markdown(index=False))\n"
   ]
  },
  {
   "cell_type": "code",
   "execution_count": 12,
   "metadata": {},
   "outputs": [
    {
     "data": {
      "application/vnd.plotly.v1+json": {
       "config": {
        "plotlyServerURL": "https://plot.ly"
       },
       "data": [
        {
         "mode": "lines",
         "name": "Prime YoY Increase (%)",
         "type": "scatter",
         "x": [
          "2003",
          "2004",
          "2005",
          "2006",
          "2007",
          "2008",
          "2009",
          "2010",
          "2011",
          "2012",
          "2013",
          "2014",
          "2015",
          "2016",
          "2017",
          "2018",
          "2019",
          "2020",
          "2021",
          "2022",
          "2023"
         ],
         "y": [
          0,
          1.26,
          -0.07,
          4.36,
          17.89,
          19.47,
          5.06,
          12.86,
          11.11,
          10.06,
          4.96,
          -2.93,
          3.95,
          -0.76,
          0.02,
          1.19,
          -0.77,
          4.83,
          7.92,
          4.93,
          6.42
         ]
        },
        {
         "mode": "lines",
         "name": "Remote YoY Increase (%)",
         "type": "scatter",
         "x": [
          "2003",
          "2004",
          "2005",
          "2006",
          "2007",
          "2008",
          "2009",
          "2010",
          "2011",
          "2012",
          "2013",
          "2014",
          "2015",
          "2016",
          "2017",
          "2018",
          "2019",
          "2020",
          "2021",
          "2022",
          "2023"
         ],
         "y": [
          0,
          6.1,
          -1.69,
          -1.13,
          5.58,
          19.53,
          9.72,
          12.7,
          13.75,
          8.1,
          3.15,
          -7.34,
          -6.18,
          0.14,
          -1.03,
          -2.89,
          3.38,
          6.79,
          14.28,
          8.63,
          4.85
         ]
        }
       ],
       "layout": {
        "font": {
         "color": "#000",
         "family": "Arial, sans-serif",
         "size": 12
        },
        "legend": {
         "orientation": "h",
         "x": 0.5,
         "xanchor": "center",
         "y": -0.3,
         "yanchor": "bottom"
        },
        "template": {
         "data": {
          "bar": [
           {
            "error_x": {
             "color": "#2a3f5f"
            },
            "error_y": {
             "color": "#2a3f5f"
            },
            "marker": {
             "line": {
              "color": "white",
              "width": 0.5
             },
             "pattern": {
              "fillmode": "overlay",
              "size": 10,
              "solidity": 0.2
             }
            },
            "type": "bar"
           }
          ],
          "barpolar": [
           {
            "marker": {
             "line": {
              "color": "white",
              "width": 0.5
             },
             "pattern": {
              "fillmode": "overlay",
              "size": 10,
              "solidity": 0.2
             }
            },
            "type": "barpolar"
           }
          ],
          "carpet": [
           {
            "aaxis": {
             "endlinecolor": "#2a3f5f",
             "gridcolor": "#C8D4E3",
             "linecolor": "#C8D4E3",
             "minorgridcolor": "#C8D4E3",
             "startlinecolor": "#2a3f5f"
            },
            "baxis": {
             "endlinecolor": "#2a3f5f",
             "gridcolor": "#C8D4E3",
             "linecolor": "#C8D4E3",
             "minorgridcolor": "#C8D4E3",
             "startlinecolor": "#2a3f5f"
            },
            "type": "carpet"
           }
          ],
          "choropleth": [
           {
            "colorbar": {
             "outlinewidth": 0,
             "ticks": ""
            },
            "type": "choropleth"
           }
          ],
          "contour": [
           {
            "colorbar": {
             "outlinewidth": 0,
             "ticks": ""
            },
            "colorscale": [
             [
              0,
              "#0d0887"
             ],
             [
              0.1111111111111111,
              "#46039f"
             ],
             [
              0.2222222222222222,
              "#7201a8"
             ],
             [
              0.3333333333333333,
              "#9c179e"
             ],
             [
              0.4444444444444444,
              "#bd3786"
             ],
             [
              0.5555555555555556,
              "#d8576b"
             ],
             [
              0.6666666666666666,
              "#ed7953"
             ],
             [
              0.7777777777777778,
              "#fb9f3a"
             ],
             [
              0.8888888888888888,
              "#fdca26"
             ],
             [
              1,
              "#f0f921"
             ]
            ],
            "type": "contour"
           }
          ],
          "contourcarpet": [
           {
            "colorbar": {
             "outlinewidth": 0,
             "ticks": ""
            },
            "type": "contourcarpet"
           }
          ],
          "heatmap": [
           {
            "colorbar": {
             "outlinewidth": 0,
             "ticks": ""
            },
            "colorscale": [
             [
              0,
              "#0d0887"
             ],
             [
              0.1111111111111111,
              "#46039f"
             ],
             [
              0.2222222222222222,
              "#7201a8"
             ],
             [
              0.3333333333333333,
              "#9c179e"
             ],
             [
              0.4444444444444444,
              "#bd3786"
             ],
             [
              0.5555555555555556,
              "#d8576b"
             ],
             [
              0.6666666666666666,
              "#ed7953"
             ],
             [
              0.7777777777777778,
              "#fb9f3a"
             ],
             [
              0.8888888888888888,
              "#fdca26"
             ],
             [
              1,
              "#f0f921"
             ]
            ],
            "type": "heatmap"
           }
          ],
          "heatmapgl": [
           {
            "colorbar": {
             "outlinewidth": 0,
             "ticks": ""
            },
            "colorscale": [
             [
              0,
              "#0d0887"
             ],
             [
              0.1111111111111111,
              "#46039f"
             ],
             [
              0.2222222222222222,
              "#7201a8"
             ],
             [
              0.3333333333333333,
              "#9c179e"
             ],
             [
              0.4444444444444444,
              "#bd3786"
             ],
             [
              0.5555555555555556,
              "#d8576b"
             ],
             [
              0.6666666666666666,
              "#ed7953"
             ],
             [
              0.7777777777777778,
              "#fb9f3a"
             ],
             [
              0.8888888888888888,
              "#fdca26"
             ],
             [
              1,
              "#f0f921"
             ]
            ],
            "type": "heatmapgl"
           }
          ],
          "histogram": [
           {
            "marker": {
             "pattern": {
              "fillmode": "overlay",
              "size": 10,
              "solidity": 0.2
             }
            },
            "type": "histogram"
           }
          ],
          "histogram2d": [
           {
            "colorbar": {
             "outlinewidth": 0,
             "ticks": ""
            },
            "colorscale": [
             [
              0,
              "#0d0887"
             ],
             [
              0.1111111111111111,
              "#46039f"
             ],
             [
              0.2222222222222222,
              "#7201a8"
             ],
             [
              0.3333333333333333,
              "#9c179e"
             ],
             [
              0.4444444444444444,
              "#bd3786"
             ],
             [
              0.5555555555555556,
              "#d8576b"
             ],
             [
              0.6666666666666666,
              "#ed7953"
             ],
             [
              0.7777777777777778,
              "#fb9f3a"
             ],
             [
              0.8888888888888888,
              "#fdca26"
             ],
             [
              1,
              "#f0f921"
             ]
            ],
            "type": "histogram2d"
           }
          ],
          "histogram2dcontour": [
           {
            "colorbar": {
             "outlinewidth": 0,
             "ticks": ""
            },
            "colorscale": [
             [
              0,
              "#0d0887"
             ],
             [
              0.1111111111111111,
              "#46039f"
             ],
             [
              0.2222222222222222,
              "#7201a8"
             ],
             [
              0.3333333333333333,
              "#9c179e"
             ],
             [
              0.4444444444444444,
              "#bd3786"
             ],
             [
              0.5555555555555556,
              "#d8576b"
             ],
             [
              0.6666666666666666,
              "#ed7953"
             ],
             [
              0.7777777777777778,
              "#fb9f3a"
             ],
             [
              0.8888888888888888,
              "#fdca26"
             ],
             [
              1,
              "#f0f921"
             ]
            ],
            "type": "histogram2dcontour"
           }
          ],
          "mesh3d": [
           {
            "colorbar": {
             "outlinewidth": 0,
             "ticks": ""
            },
            "type": "mesh3d"
           }
          ],
          "parcoords": [
           {
            "line": {
             "colorbar": {
              "outlinewidth": 0,
              "ticks": ""
             }
            },
            "type": "parcoords"
           }
          ],
          "pie": [
           {
            "automargin": true,
            "type": "pie"
           }
          ],
          "scatter": [
           {
            "fillpattern": {
             "fillmode": "overlay",
             "size": 10,
             "solidity": 0.2
            },
            "type": "scatter"
           }
          ],
          "scatter3d": [
           {
            "line": {
             "colorbar": {
              "outlinewidth": 0,
              "ticks": ""
             }
            },
            "marker": {
             "colorbar": {
              "outlinewidth": 0,
              "ticks": ""
             }
            },
            "type": "scatter3d"
           }
          ],
          "scattercarpet": [
           {
            "marker": {
             "colorbar": {
              "outlinewidth": 0,
              "ticks": ""
             }
            },
            "type": "scattercarpet"
           }
          ],
          "scattergeo": [
           {
            "marker": {
             "colorbar": {
              "outlinewidth": 0,
              "ticks": ""
             }
            },
            "type": "scattergeo"
           }
          ],
          "scattergl": [
           {
            "marker": {
             "colorbar": {
              "outlinewidth": 0,
              "ticks": ""
             }
            },
            "type": "scattergl"
           }
          ],
          "scattermapbox": [
           {
            "marker": {
             "colorbar": {
              "outlinewidth": 0,
              "ticks": ""
             }
            },
            "type": "scattermapbox"
           }
          ],
          "scatterpolar": [
           {
            "marker": {
             "colorbar": {
              "outlinewidth": 0,
              "ticks": ""
             }
            },
            "type": "scatterpolar"
           }
          ],
          "scatterpolargl": [
           {
            "marker": {
             "colorbar": {
              "outlinewidth": 0,
              "ticks": ""
             }
            },
            "type": "scatterpolargl"
           }
          ],
          "scatterternary": [
           {
            "marker": {
             "colorbar": {
              "outlinewidth": 0,
              "ticks": ""
             }
            },
            "type": "scatterternary"
           }
          ],
          "surface": [
           {
            "colorbar": {
             "outlinewidth": 0,
             "ticks": ""
            },
            "colorscale": [
             [
              0,
              "#0d0887"
             ],
             [
              0.1111111111111111,
              "#46039f"
             ],
             [
              0.2222222222222222,
              "#7201a8"
             ],
             [
              0.3333333333333333,
              "#9c179e"
             ],
             [
              0.4444444444444444,
              "#bd3786"
             ],
             [
              0.5555555555555556,
              "#d8576b"
             ],
             [
              0.6666666666666666,
              "#ed7953"
             ],
             [
              0.7777777777777778,
              "#fb9f3a"
             ],
             [
              0.8888888888888888,
              "#fdca26"
             ],
             [
              1,
              "#f0f921"
             ]
            ],
            "type": "surface"
           }
          ],
          "table": [
           {
            "cells": {
             "fill": {
              "color": "#EBF0F8"
             },
             "line": {
              "color": "white"
             }
            },
            "header": {
             "fill": {
              "color": "#C8D4E3"
             },
             "line": {
              "color": "white"
             }
            },
            "type": "table"
           }
          ]
         },
         "layout": {
          "annotationdefaults": {
           "arrowcolor": "#2a3f5f",
           "arrowhead": 0,
           "arrowwidth": 1
          },
          "autotypenumbers": "strict",
          "coloraxis": {
           "colorbar": {
            "outlinewidth": 0,
            "ticks": ""
           }
          },
          "colorscale": {
           "diverging": [
            [
             0,
             "#8e0152"
            ],
            [
             0.1,
             "#c51b7d"
            ],
            [
             0.2,
             "#de77ae"
            ],
            [
             0.3,
             "#f1b6da"
            ],
            [
             0.4,
             "#fde0ef"
            ],
            [
             0.5,
             "#f7f7f7"
            ],
            [
             0.6,
             "#e6f5d0"
            ],
            [
             0.7,
             "#b8e186"
            ],
            [
             0.8,
             "#7fbc41"
            ],
            [
             0.9,
             "#4d9221"
            ],
            [
             1,
             "#276419"
            ]
           ],
           "sequential": [
            [
             0,
             "#0d0887"
            ],
            [
             0.1111111111111111,
             "#46039f"
            ],
            [
             0.2222222222222222,
             "#7201a8"
            ],
            [
             0.3333333333333333,
             "#9c179e"
            ],
            [
             0.4444444444444444,
             "#bd3786"
            ],
            [
             0.5555555555555556,
             "#d8576b"
            ],
            [
             0.6666666666666666,
             "#ed7953"
            ],
            [
             0.7777777777777778,
             "#fb9f3a"
            ],
            [
             0.8888888888888888,
             "#fdca26"
            ],
            [
             1,
             "#f0f921"
            ]
           ],
           "sequentialminus": [
            [
             0,
             "#0d0887"
            ],
            [
             0.1111111111111111,
             "#46039f"
            ],
            [
             0.2222222222222222,
             "#7201a8"
            ],
            [
             0.3333333333333333,
             "#9c179e"
            ],
            [
             0.4444444444444444,
             "#bd3786"
            ],
            [
             0.5555555555555556,
             "#d8576b"
            ],
            [
             0.6666666666666666,
             "#ed7953"
            ],
            [
             0.7777777777777778,
             "#fb9f3a"
            ],
            [
             0.8888888888888888,
             "#fdca26"
            ],
            [
             1,
             "#f0f921"
            ]
           ]
          },
          "colorway": [
           "#636efa",
           "#EF553B",
           "#00cc96",
           "#ab63fa",
           "#FFA15A",
           "#19d3f3",
           "#FF6692",
           "#B6E880",
           "#FF97FF",
           "#FECB52"
          ],
          "font": {
           "color": "#2a3f5f"
          },
          "geo": {
           "bgcolor": "white",
           "lakecolor": "white",
           "landcolor": "white",
           "showlakes": true,
           "showland": true,
           "subunitcolor": "#C8D4E3"
          },
          "hoverlabel": {
           "align": "left"
          },
          "hovermode": "closest",
          "mapbox": {
           "style": "light"
          },
          "paper_bgcolor": "white",
          "plot_bgcolor": "white",
          "polar": {
           "angularaxis": {
            "gridcolor": "#EBF0F8",
            "linecolor": "#EBF0F8",
            "ticks": ""
           },
           "bgcolor": "white",
           "radialaxis": {
            "gridcolor": "#EBF0F8",
            "linecolor": "#EBF0F8",
            "ticks": ""
           }
          },
          "scene": {
           "xaxis": {
            "backgroundcolor": "white",
            "gridcolor": "#DFE8F3",
            "gridwidth": 2,
            "linecolor": "#EBF0F8",
            "showbackground": true,
            "ticks": "",
            "zerolinecolor": "#EBF0F8"
           },
           "yaxis": {
            "backgroundcolor": "white",
            "gridcolor": "#DFE8F3",
            "gridwidth": 2,
            "linecolor": "#EBF0F8",
            "showbackground": true,
            "ticks": "",
            "zerolinecolor": "#EBF0F8"
           },
           "zaxis": {
            "backgroundcolor": "white",
            "gridcolor": "#DFE8F3",
            "gridwidth": 2,
            "linecolor": "#EBF0F8",
            "showbackground": true,
            "ticks": "",
            "zerolinecolor": "#EBF0F8"
           }
          },
          "shapedefaults": {
           "line": {
            "color": "#2a3f5f"
           }
          },
          "ternary": {
           "aaxis": {
            "gridcolor": "#DFE8F3",
            "linecolor": "#A2B1C6",
            "ticks": ""
           },
           "baxis": {
            "gridcolor": "#DFE8F3",
            "linecolor": "#A2B1C6",
            "ticks": ""
           },
           "bgcolor": "white",
           "caxis": {
            "gridcolor": "#DFE8F3",
            "linecolor": "#A2B1C6",
            "ticks": ""
           }
          },
          "title": {
           "x": 0.05
          },
          "xaxis": {
           "automargin": true,
           "gridcolor": "#EBF0F8",
           "linecolor": "#EBF0F8",
           "ticks": "",
           "title": {
            "standoff": 15
           },
           "zerolinecolor": "#EBF0F8",
           "zerolinewidth": 2
          },
          "yaxis": {
           "automargin": true,
           "gridcolor": "#EBF0F8",
           "linecolor": "#EBF0F8",
           "ticks": "",
           "title": {
            "standoff": 15
           },
           "zerolinecolor": "#EBF0F8",
           "zerolinewidth": 2
          }
         }
        },
        "title": {
         "text": "<b>YoY Change in Average PSF for 4-Room Resale HDBs</b>"
        },
        "xaxis": {
         "title": {
          "text": "Year"
         }
        },
        "yaxis": {
         "title": {
          "text": "YoY Increase (%)"
         }
        }
       }
      }
     },
     "metadata": {},
     "output_type": "display_data"
    }
   ],
   "source": [
    "import plotly.graph_objects as go\n",
    "\n",
    "# Add your calculated annualized increases here\n",
    "prime_annualized_increase = prime_annualized\n",
    "remote_annualized_increase = remote_annualized\n",
    "\n",
    "# Create a line chart\n",
    "fig = go.Figure()\n",
    "\n",
    "# Add traces for prime and remote YoY increase\n",
    "fig.add_trace(\n",
    "    go.Scatter(x=df_temp[\"Year\"], y=df_temp[\"Prime PSF YoY %\"], mode=\"lines\", name=\"Prime YoY Increase (%)\")\n",
    ")\n",
    "fig.add_trace(\n",
    "    go.Scatter(\n",
    "        x=df_temp[\"Year\"], y=df_temp[\"Remote PSF YoY %\"], mode=\"lines\", name=\"Remote YoY Increase (%)\"\n",
    "    )\n",
    ")\n",
    "\n",
    "# Update layout for a cleaner look\n",
    "fig.update_layout(\n",
    "    title=\"<b>YoY Change in Average PSF for 4-Room Resale HDBs</b>\",\n",
    "    xaxis_title=\"Year\",\n",
    "    yaxis_title=\"YoY Increase (%)\",\n",
    "    template=\"plotly_white\",\n",
    "    font=dict(family=\"Arial, sans-serif\", size=12, color=\"#000\"),\n",
    "    legend=dict(orientation=\"h\", yanchor=\"bottom\", y=-0.3, xanchor=\"center\", x=0.5),\n",
    ")\n",
    "\n",
    "# Show the plot\n",
    "fig.show()"
   ]
  },
  {
   "cell_type": "code",
   "execution_count": 13,
   "metadata": {},
   "outputs": [],
   "source": [
    "\n",
    "import plotly.offline as pyo\n",
    "\n",
    "# Convert the figure to an HTML div string\n",
    "div = pyo.plot(fig, output_type='div', include_plotlyjs='cdn')\n",
    "\n",
    "with open('plot.html', 'w') as file:\n",
    "    file.write(div)"
   ]
  },
  {
   "cell_type": "markdown",
   "metadata": {},
   "source": [
    "# Calculate Interest Expense and Future Value"
   ]
  },
  {
   "cell_type": "code",
   "execution_count": 12,
   "metadata": {},
   "outputs": [],
   "source": [
    "def calculate_interest_expense(\n",
    "    loan_amount: float, interest_rate: float, tenure_years: int, number_of_years: int\n",
    ") -> float:\n",
    "    \"\"\"\n",
    "    Calculate the total interest expense payable for a specified number of years of a loan.\n",
    "\n",
    "    This function computes the interest expense for the first 'number_of_years' of an amortizing loan\n",
    "    based on the loan amount, annual interest rate, and total tenure of the loan in years.\n",
    "    'number_of_years' must be less than or equal to 'tenure_years'.\n",
    "\n",
    "    Args:\n",
    "        loan_amount (float): The principal amount of the loan.\n",
    "        interest_rate (float): The annual interest rate as a percentage (e.g., 4 for 4%).\n",
    "        tenure_years (int): The total tenure of the loan in years.\n",
    "        number_of_years (int): The number of years for which the interest is calculated.\n",
    "\n",
    "    Returns:\n",
    "        float: The interest expense payable over the specified number of years.\n",
    "\n",
    "    Raises:\n",
    "        ValueError: If 'number_of_years' is greater than 'tenure_years'.\n",
    "\n",
    "    Example:\n",
    "        >>> calculate_interest_expense(100000, 4, 15, 10)\n",
    "        37724.17  # This is an example output and will vary based on the inputs.\n",
    "    \"\"\"\n",
    "    if number_of_years > tenure_years:\n",
    "        raise ValueError(\"'number_of_years' must be less than or equal to 'tenure_years'\")\n",
    "\n",
    "    monthly_interest_rate = interest_rate / 12 / 100\n",
    "    number_of_payments = tenure_years * 12\n",
    "    payments_for_specified_years = number_of_years * 12\n",
    "\n",
    "    # Monthly payment calculation using the formula for an amortizing loan\n",
    "    monthly_payment = loan_amount * monthly_interest_rate / (1 - (1 + monthly_interest_rate) ** -number_of_payments)\n",
    "\n",
    "    # Total payment for specified years\n",
    "    total_payment_for_years = monthly_payment * payments_for_specified_years\n",
    "\n",
    "    # Principal paid till specified years\n",
    "    principal_paid = loan_amount\n",
    "    for _ in range(payments_for_specified_years):\n",
    "        interest_for_month = principal_paid * monthly_interest_rate\n",
    "        principal_paid -= monthly_payment - interest_for_month\n",
    "\n",
    "    # Interest for specified years\n",
    "    interest_for_years = total_payment_for_years - (loan_amount - principal_paid)\n",
    "\n",
    "    return round(interest_for_years)"
   ]
  },
  {
   "cell_type": "code",
   "execution_count": 15,
   "metadata": {},
   "outputs": [
    {
     "data": {
      "text/plain": [
       "135277"
      ]
     },
     "execution_count": 15,
     "metadata": {},
     "output_type": "execute_result"
    }
   ],
   "source": [
    "calculate_interest_expense(800000, 4, 30, 10)\n",
    "calculate_interest_expense(375000, 4, 30, 10)\n"
   ]
  },
  {
   "cell_type": "code",
   "execution_count": 22,
   "metadata": {},
   "outputs": [],
   "source": [
    "def calculate_future_value(original_price: float, number_of_years: int, annualized_return_rate: float) -> float:\n",
    "    \"\"\"\n",
    "    Calculate the future value of a property based on its original price, number of years, and annualized return rate.\n",
    "\n",
    "    This function uses the compound interest formula to compute the future value of a property,\n",
    "    considering a constant annualized return rate over the specified number of years.\n",
    "\n",
    "    Args:\n",
    "        original_price (float): The original purchase price of the property.\n",
    "        number_of_years (int): The number of years over which the property appreciates.\n",
    "        annualized_return_rate (float): The annualized return rate as a decimal (e.g., 0.05 for 5%).\n",
    "\n",
    "    Returns:\n",
    "        float: The future value of the property after the specified number of years.\n",
    "\n",
    "    Example:\n",
    "        >>> calculate_future_value(500000, 10, 0.03)\n",
    "        671415.47  # This is an example output and will vary based on the inputs.\n",
    "    \"\"\"\n",
    "    future_value = original_price * ((1 + annualized_return_rate) ** number_of_years)\n",
    "    return round(future_value)\n"
   ]
  },
  {
   "cell_type": "code",
   "execution_count": 26,
   "metadata": {},
   "outputs": [
    {
     "name": "stdout",
     "output_type": "stream",
     "text": [
      "901353\n",
      "548495\n"
     ]
    }
   ],
   "source": [
    "# Example usage\n",
    "print(calculate_future_value(800000, 10, 0.012))\n",
    "print(calculate_future_value(500000, 10, 0.0093))"
   ]
  },
  {
   "cell_type": "code",
   "execution_count": null,
   "metadata": {},
   "outputs": [],
   "source": []
  }
 ],
 "metadata": {
  "kernelspec": {
   "display_name": "resale-prop-analysis-z8Iw6NTN-py3.12",
   "language": "python",
   "name": "python3"
  },
  "language_info": {
   "codemirror_mode": {
    "name": "ipython",
    "version": 3
   },
   "file_extension": ".py",
   "mimetype": "text/x-python",
   "name": "python",
   "nbconvert_exporter": "python",
   "pygments_lexer": "ipython3",
   "version": "3.12.1"
  }
 },
 "nbformat": 4,
 "nbformat_minor": 2
}
