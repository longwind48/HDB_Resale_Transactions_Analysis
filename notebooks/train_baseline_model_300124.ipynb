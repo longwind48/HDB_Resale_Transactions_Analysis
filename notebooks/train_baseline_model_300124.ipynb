{
 "cells": [
  {
   "cell_type": "markdown",
   "metadata": {},
   "source": [
    "# Background\n",
    "\n",
    "Objectives:\n",
    "- To train a baseline model to predict resale hdb prices"
   ]
  },
  {
   "cell_type": "markdown",
   "metadata": {},
   "source": [
    "# Import Libraries"
   ]
  },
  {
   "cell_type": "code",
   "execution_count": 5,
   "metadata": {},
   "outputs": [],
   "source": [
    "import os\n",
    "os.chdir(\"../\")"
   ]
  },
  {
   "cell_type": "code",
   "execution_count": 120,
   "metadata": {},
   "outputs": [],
   "source": [
    "import pandas as pd\n",
    "import numpy as np\n",
    "import matplotlib.pyplot as plt\n",
    "import seaborn as sns\n",
    "from datetime import datetime as dt\n",
    "\n",
    "from sklearn.model_selection import train_test_split\n",
    "from sklearn.ensemble import RandomForestRegressor\n",
    "from sklearn.model_selection import GridSearchCV\n",
    "from sklearn.metrics import r2_score, mean_absolute_error\n",
    "from scipy.stats import spearmanr, pearsonr"
   ]
  },
  {
   "cell_type": "markdown",
   "metadata": {},
   "source": [
    "# Import data"
   ]
  },
  {
   "cell_type": "code",
   "execution_count": 143,
   "metadata": {},
   "outputs": [],
   "source": [
    "# Donwloaded from src/download_resale_hdb_dataset.py cli script\n",
    "df = pd.read_parquet(\"data/raw/resale_hdb_data.parquet\")\n",
    "\n",
    "# Downloaded from https://tablebuilder.singstat.gov.sg/table/TS/M212882\n",
    "df_cpi = pd.read_csv(\"data/raw/cpi_housing.csv\", index_col=0).iloc[9:757, :1].reset_index(drop=False)\n",
    "df_cpi.columns = [\"month\", \"cpi\"]"
   ]
  },
  {
   "cell_type": "code",
   "execution_count": 144,
   "metadata": {},
   "outputs": [
    {
     "data": {
      "text/html": [
       "<div>\n",
       "<style scoped>\n",
       "    .dataframe tbody tr th:only-of-type {\n",
       "        vertical-align: middle;\n",
       "    }\n",
       "\n",
       "    .dataframe tbody tr th {\n",
       "        vertical-align: top;\n",
       "    }\n",
       "\n",
       "    .dataframe thead th {\n",
       "        text-align: right;\n",
       "    }\n",
       "</style>\n",
       "<table border=\"1\" class=\"dataframe\">\n",
       "  <thead>\n",
       "    <tr style=\"text-align: right;\">\n",
       "      <th></th>\n",
       "      <th>_id</th>\n",
       "      <th>month</th>\n",
       "      <th>town</th>\n",
       "      <th>flat_type</th>\n",
       "      <th>block</th>\n",
       "      <th>street_name</th>\n",
       "      <th>storey_range</th>\n",
       "      <th>floor_area_sqm</th>\n",
       "      <th>flat_model</th>\n",
       "      <th>lease_commence_date</th>\n",
       "      <th>resale_price</th>\n",
       "      <th>remaining_lease</th>\n",
       "    </tr>\n",
       "  </thead>\n",
       "  <tbody>\n",
       "    <tr>\n",
       "      <th>0</th>\n",
       "      <td>1</td>\n",
       "      <td>2000-01</td>\n",
       "      <td>ANG MO KIO</td>\n",
       "      <td>3 ROOM</td>\n",
       "      <td>170</td>\n",
       "      <td>ANG MO KIO AVE 4</td>\n",
       "      <td>07 TO 09</td>\n",
       "      <td>69</td>\n",
       "      <td>Improved</td>\n",
       "      <td>1986</td>\n",
       "      <td>147000</td>\n",
       "      <td>None</td>\n",
       "    </tr>\n",
       "  </tbody>\n",
       "</table>\n",
       "</div>"
      ],
      "text/plain": [
       "   _id    month        town flat_type block       street_name storey_range  \\\n",
       "0    1  2000-01  ANG MO KIO    3 ROOM   170  ANG MO KIO AVE 4     07 TO 09   \n",
       "\n",
       "  floor_area_sqm flat_model lease_commence_date resale_price remaining_lease  \n",
       "0             69   Improved                1986       147000            None  "
      ]
     },
     "execution_count": 144,
     "metadata": {},
     "output_type": "execute_result"
    }
   ],
   "source": [
    "df.head(1)"
   ]
  },
  {
   "cell_type": "code",
   "execution_count": 145,
   "metadata": {},
   "outputs": [
    {
     "data": {
      "text/html": [
       "<div>\n",
       "<style scoped>\n",
       "    .dataframe tbody tr th:only-of-type {\n",
       "        vertical-align: middle;\n",
       "    }\n",
       "\n",
       "    .dataframe tbody tr th {\n",
       "        vertical-align: top;\n",
       "    }\n",
       "\n",
       "    .dataframe thead th {\n",
       "        text-align: right;\n",
       "    }\n",
       "</style>\n",
       "<table border=\"1\" class=\"dataframe\">\n",
       "  <thead>\n",
       "    <tr style=\"text-align: right;\">\n",
       "      <th></th>\n",
       "      <th>month</th>\n",
       "      <th>cpi</th>\n",
       "    </tr>\n",
       "  </thead>\n",
       "  <tbody>\n",
       "    <tr>\n",
       "      <th>0</th>\n",
       "      <td>2023 Dec</td>\n",
       "      <td>115.2</td>\n",
       "    </tr>\n",
       "    <tr>\n",
       "      <th>1</th>\n",
       "      <td>2023 Nov</td>\n",
       "      <td>114.7</td>\n",
       "    </tr>\n",
       "    <tr>\n",
       "      <th>2</th>\n",
       "      <td>2023 Oct</td>\n",
       "      <td>115.5</td>\n",
       "    </tr>\n",
       "    <tr>\n",
       "      <th>3</th>\n",
       "      <td>2023 Sep</td>\n",
       "      <td>114.7</td>\n",
       "    </tr>\n",
       "    <tr>\n",
       "      <th>4</th>\n",
       "      <td>2023 Aug</td>\n",
       "      <td>114.1</td>\n",
       "    </tr>\n",
       "  </tbody>\n",
       "</table>\n",
       "</div>"
      ],
      "text/plain": [
       "        month    cpi\n",
       "0    2023 Dec  115.2\n",
       "1    2023 Nov  114.7\n",
       "2    2023 Oct  115.5\n",
       "3    2023 Sep  114.7\n",
       "4    2023 Aug  114.1"
      ]
     },
     "execution_count": 145,
     "metadata": {},
     "output_type": "execute_result"
    }
   ],
   "source": [
    "df_cpi.head(5)"
   ]
  },
  {
   "cell_type": "markdown",
   "metadata": {},
   "source": [
    "# Clean data"
   ]
  },
  {
   "cell_type": "code",
   "execution_count": 146,
   "metadata": {},
   "outputs": [],
   "source": [
    "# Convert columns to correct type\n",
    "df['month'] = pd.to_datetime(df['month'], format='%Y-%m')\n",
    "df[\"resale_price\"] = df[\"resale_price\"].astype(float)\n",
    "\n",
    "# Clean flat type\n",
    "df[\"flat_type\"] = df[\"flat_type\"].str.replace(\"MULTI-GENERATION\", \"MULTI GENERATION\")\n",
    "# Rename flat model duplicates\n",
    "replace_values = {\n",
    "    \"NEW GENERATION\": \"New Generation\",\n",
    "    \"SIMPLIFIED\": \"Simplified\",\n",
    "    \"STANDARD\": \"Standard\",\n",
    "    \"MODEL A-MAISONETTE\": \"Maisonette\",\n",
    "    \"MULTI GENERATION\": \"Multi Generation\",\n",
    "    \"IMPROVED-MAISONETTE\": \"Executive Maisonette\",\n",
    "    \"Improved-Maisonette\": \"Executive Maisonette\",\n",
    "    \"Premium Maisonette\": \"Executive Maisonette\",\n",
    "    \"2-ROOM\": \"2-room\",\n",
    "    \"MODEL A\": \"Model A\",\n",
    "    \"MAISONETTE\": \"Maisonette\",\n",
    "    \"Model A-Maisonette\": \"Maisonette\",\n",
    "    \"IMPROVED\": \"Improved\",\n",
    "    \"TERRACE\": \"Terrace\",\n",
    "    \"PREMIUM APARTMENT\": \"Premium Apartment\",\n",
    "    \"Premium Apartment Loft\": \"Premium Apartment\",\n",
    "    \"APARTMENT\": \"Apartment\",\n",
    "    \"Type S1\": \"Type S1S2\",\n",
    "    \"Type S2\": \"Type S1S2\",\n",
    "}\n",
    "df = df.replace({\"flat_model\": replace_values})"
   ]
  },
  {
   "cell_type": "code",
   "execution_count": 147,
   "metadata": {},
   "outputs": [],
   "source": [
    "# Adjust resale price for inflation\n",
    "df_cpi[\"month\"] = df_cpi[\"month\"].apply(lambda x: x.strip())\n",
    "df_cpi[\"month\"] = pd.to_datetime(df_cpi[\"month\"], format=\"%Y %b\")\n",
    "df = df.merge(df_cpi, on=\"month\", how=\"left\")\n",
    "df[\"cpi\"] = df[\"cpi\"].astype(float)\n",
    "df[\"real_price\"] = (df[\"resale_price\"] / df[\"cpi\"]) * 100\n",
    "\n",
    "\n",
    "# only include 1990 to 2023 data\n",
    "df = df[df[\"month\"] < \"2024-01-01\"]"
   ]
  },
  {
   "cell_type": "markdown",
   "metadata": {},
   "source": [
    "# Feature Engineering"
   ]
  },
  {
   "cell_type": "code",
   "execution_count": 148,
   "metadata": {},
   "outputs": [],
   "source": [
    "df['year'] = pd.DatetimeIndex(df['month']).year # extract out year"
   ]
  },
  {
   "cell_type": "code",
   "execution_count": 149,
   "metadata": {},
   "outputs": [],
   "source": [
    "# reduce number of class of town to regions\n",
    "d_region = {\n",
    "    \"ANG MO KIO\": \"North East\",\n",
    "    \"BEDOK\": \"East\",\n",
    "    \"BISHAN\": \"Central\",\n",
    "    \"BUKIT BATOK\": \"West\",\n",
    "    \"BUKIT MERAH\": \"Central\",\n",
    "    \"BUKIT PANJANG\": \"West\",\n",
    "    \"BUKIT TIMAH\": \"Central\",\n",
    "    \"CENTRAL AREA\": \"Central\",\n",
    "    \"CHOA CHU KANG\": \"West\",\n",
    "    \"CLEMENTI\": \"West\",\n",
    "    \"GEYLANG\": \"Central\",\n",
    "    \"HOUGANG\": \"North East\",\n",
    "    \"JURONG EAST\": \"West\",\n",
    "    \"JURONG WEST\": \"West\",\n",
    "    \"KALLANG/WHAMPOA\": \"Central\",\n",
    "    \"MARINE PARADE\": \"Central\",\n",
    "    \"PASIR RIS\": \"East\",\n",
    "    \"PUNGGOL\": \"North East\",\n",
    "    \"QUEENSTOWN\": \"Central\",\n",
    "    \"SEMBAWANG\": \"North\",\n",
    "    \"SENGKANG\": \"North East\",\n",
    "    \"SERANGOON\": \"North East\",\n",
    "    \"TAMPINES\": \"East\",\n",
    "    \"TOA PAYOH\": \"Central\",\n",
    "    \"WOODLANDS\": \"North\",\n",
    "    \"YISHUN\": \"North\",\n",
    "}\n",
    "df[\"region\"] = df[\"town\"].map(d_region)"
   ]
  },
  {
   "cell_type": "code",
   "execution_count": 150,
   "metadata": {},
   "outputs": [],
   "source": [
    "def get_lease_remaining_in_years(lease_info: str or int) -> float:\n",
    "    \"\"\"Convert remaining lease information to a number of years.\n",
    "\n",
    "    This function takes a lease duration expressed either as a string in the format\n",
    "    \"X years Y months\" or as an integer representing the number of years, and converts\n",
    "    it into a float representing the total number of years. If the input is a string\n",
    "    but does not contain valid numbers, it returns None. If the input is neither a\n",
    "    string nor an integer, it also returns None.\n",
    "\n",
    "    Args:\n",
    "        lease_info (str or int): The lease duration, either as a string with years and months\n",
    "                                 or as an integer representing years.\n",
    "\n",
    "    Returns:\n",
    "        float or None: The total number of years of the lease, or None if input is invalid.\n",
    "\n",
    "    \"\"\"\n",
    "    if isinstance(lease_info, str):\n",
    "        try:\n",
    "            yearmonth = [int(s) for s in lease_info.split() if s.isdigit()]\n",
    "            if len(yearmonth) == 2:  # Format: \"X years Y months\"\n",
    "                return yearmonth[0] + (yearmonth[1] / 12)\n",
    "            elif len(yearmonth) == 1:  # Format: \"X years\"\n",
    "                return float(yearmonth[0])\n",
    "            else:\n",
    "                return None\n",
    "        except ValueError:\n",
    "            return None\n",
    "    elif isinstance(lease_info, int):\n",
    "        return float(lease_info)\n",
    "    else:\n",
    "        return None\n",
    "\n",
    "\n",
    "df[\"remaining_lease\"] = df[\"remaining_lease\"].apply(lambda x: get_lease_remaining_in_years(x))"
   ]
  },
  {
   "cell_type": "code",
   "execution_count": 152,
   "metadata": {},
   "outputs": [],
   "source": [
    "# Select relevant columns\n",
    "df = df[\n",
    "    [\n",
    "        \"town\",\n",
    "        \"flat_type\",\n",
    "        \"storey_range\",\n",
    "        \"floor_area_sqm\",\n",
    "        \"flat_model\",\n",
    "        \"lease_commence_date\",\n",
    "        \"year\",\n",
    "        \"region\",\n",
    "        \"real_price\",\n",
    "    ]\n",
    "]"
   ]
  },
  {
   "cell_type": "code",
   "execution_count": 153,
   "metadata": {},
   "outputs": [
    {
     "name": "stderr",
     "output_type": "stream",
     "text": [
      "/var/folders/h5/hszgk8vs6fsfkf24x0d992fm0000gn/T/ipykernel_11709/1135285321.py:25: FutureWarning: Downcasting behavior in `replace` is deprecated and will be removed in a future version. To retain the old behavior, explicitly call `result.infer_objects(copy=False)`. To opt-in to the future behavior, set `pd.set_option('future.no_silent_downcasting', True)`\n",
      "  df = df.replace({\"flat_type\": replace_values})\n"
     ]
    },
    {
     "data": {
      "text/plain": [
       "flat_model\n",
       "Model A           327555\n",
       "Standard          280127\n",
       "New Generation    187619\n",
       "Apartment          80826\n",
       "Maisonette         31629\n",
       "Special             5750\n",
       "3Gen                  26\n",
       "Name: count, dtype: int64"
      ]
     },
     "metadata": {},
     "output_type": "display_data"
    }
   ],
   "source": [
    "# label encode storeys\n",
    "df = df.sort_values(by=\"storey_range\")\n",
    "df[\"storey_range\"] = df[\"storey_range\"].astype(\"category\").cat.codes  # label encode\n",
    "\n",
    "# remove flat types with very few cases\n",
    "df = df[~df[\"flat_type\"].isin([\"MULTI GENERATION\", \"1 ROOM\"])]\n",
    "\n",
    "# Re-categorize flat model to reduce num classes\n",
    "replace_values = {\n",
    "    \"Executive Maisonette\": \"Maisonette\",\n",
    "    \"Terrace\": \"Special\",\n",
    "    \"Adjoined flat\": \"Special\",\n",
    "    \"Type S1S2\": \"Special\",\n",
    "    \"DBSS\": \"Special\",\n",
    "    \"Model A2\": \"Model A\",\n",
    "    \"Premium Apartment\": \"Apartment\",\n",
    "    \"Improved\": \"Standard\",\n",
    "    \"Simplified\": \"Model A\",\n",
    "    \"2-room\": \"Standard\",\n",
    "}\n",
    "df = df.replace({\"flat_model\": replace_values})\n",
    "\n",
    "# Label encode flat type\n",
    "replace_values = {\"2 ROOM\": 0, \"3 ROOM\": 1, \"4 ROOM\": 2, \"5 ROOM\": 3, \"EXECUTIVE\": 4}\n",
    "df = df.replace({\"flat_type\": replace_values})\n",
    "\n",
    "df = df.reset_index(drop=True)\n",
    "display(df[\"flat_model\"].value_counts())"
   ]
  },
  {
   "cell_type": "code",
   "execution_count": 154,
   "metadata": {},
   "outputs": [],
   "source": [
    "## dummy encoding\n",
    "df = pd.get_dummies(df, columns=[\"region\"], prefix=[\"region\"], drop_first=True)  # central is baseline\n",
    "df = pd.get_dummies(df, columns=[\"flat_model\"], prefix=[\"model\"])\n",
    "df = df.drop(\"model_Standard\", axis=1)  # remove standard, setting it as the baseline"
   ]
  },
  {
   "cell_type": "code",
   "execution_count": 155,
   "metadata": {},
   "outputs": [
    {
     "name": "stdout",
     "output_type": "stream",
     "text": [
      "Shape of X_train: (822178, 14)\n",
      "Shape of X_test: (91354, 14)\n",
      "Shape of y_train: (822178,)\n",
      "Shape of y_test: (91354,)\n"
     ]
    }
   ],
   "source": [
    "\n",
    "# Train Test Split\n",
    "y = df['real_price']\n",
    "X = df.drop(['real_price','town', 'year'], axis=1)\n",
    "\n",
    "X_train, X_test, y_train, y_test = train_test_split(X,y, test_size = 0.1, shuffle=True, random_state=0)\n",
    "print('Shape of X_train:', X_train.shape)\n",
    "print('Shape of X_test:', X_test.shape)\n",
    "print('Shape of y_train:', y_train.shape)\n",
    "print('Shape of y_test:', y_test.shape)"
   ]
  },
  {
   "cell_type": "markdown",
   "metadata": {},
   "source": [
    "# Train baseline tree-based model"
   ]
  },
  {
   "cell_type": "code",
   "execution_count": 157,
   "metadata": {},
   "outputs": [
    {
     "name": "stdout",
     "output_type": "stream",
     "text": [
      "Best parameters set found on Cross Validation:\n",
      "\n",
      " {'max_depth': 20, 'max_features': 10, 'min_samples_leaf': 2, 'min_samples_split': 15}\n",
      "\n",
      "Cross Validation R² score:\n",
      "\n",
      " 0.734\n"
     ]
    }
   ],
   "source": [
    "# Some dummy hyperparameter tuning code\n",
    "param_grid = {\n",
    "    \"max_features\": [10],  # max number of features considered for splitting a node\n",
    "    \"max_depth\": [20],  # max number of levels in each decision tree\n",
    "    \"min_samples_split\": [15],  # min number of data points placed in a node before the node is split\n",
    "    \"min_samples_leaf\": [2],\n",
    "}  \n",
    "rfr = GridSearchCV(\n",
    "    RandomForestRegressor(n_estimators=500, n_jobs=-1, random_state=28),\n",
    "    param_grid,\n",
    "    cv=5,\n",
    "    scoring=\"r2\",\n",
    "    return_train_score=True,\n",
    ")\n",
    "rfr.fit(X_train, y_train)\n",
    "print(\"Best parameters set found on Cross Validation:\\n\\n\", rfr.best_params_)\n",
    "print(\"\\nCross Validation R\\u00b2 score:\\n\\n\", rfr.best_score_.round(3))"
   ]
  },
  {
   "cell_type": "code",
   "execution_count": 160,
   "metadata": {},
   "outputs": [
    {
     "name": "stdout",
     "output_type": "stream",
     "text": [
      "Test data R² score: 0.736\n",
      "Test data Spearman correlation: 0.845\n",
      "Test data Pearson correlation: 0.858\n",
      "Test data Mean Absolute Error: 63138\n"
     ]
    }
   ],
   "source": [
    "# Evalute on test set\n",
    "cv_predicted_test = rfr.predict(X_test)\n",
    "\n",
    "cv_test_score = r2_score(y_test, cv_predicted_test)\n",
    "spearman = spearmanr(y_test, cv_predicted_test)\n",
    "pearson = pearsonr(y_test, cv_predicted_test)\n",
    "cv_mae = mean_absolute_error(y_test, cv_predicted_test)\n",
    "\n",
    "print(f'Test data R\\u00b2 score: {cv_test_score:>5.3}')\n",
    "print(f'Test data Spearman correlation: {spearman[0]:.3}')\n",
    "print(f'Test data Pearson correlation: {pearson[0]:.3}')\n",
    "print(f'Test data Mean Absolute Error: {round(cv_mae)}')"
   ]
  },
  {
   "cell_type": "code",
   "execution_count": 161,
   "metadata": {},
   "outputs": [
    {
     "data": {
      "text/plain": [
       "count    9.135400e+04\n",
       "mean     3.691419e+05\n",
       "std      1.625648e+05\n",
       "min      1.938611e+04\n",
       "25%      2.524441e+05\n",
       "50%      3.529412e+05\n",
       "75%      4.655870e+05\n",
       "max      1.266562e+06\n",
       "Name: real_price, dtype: float64"
      ]
     },
     "execution_count": 161,
     "metadata": {},
     "output_type": "execute_result"
    }
   ],
   "source": [
    "y_test.describe()"
   ]
  },
  {
   "cell_type": "code",
   "execution_count": 162,
   "metadata": {},
   "outputs": [
    {
     "data": {
      "text/plain": [
       "162564.8"
      ]
     },
     "execution_count": 162,
     "metadata": {},
     "output_type": "execute_result"
    }
   ],
   "source": [
    "1.625648e+05"
   ]
  },
  {
   "cell_type": "markdown",
   "metadata": {},
   "source": [
    "# Conclusion"
   ]
  },
  {
   "cell_type": "markdown",
   "metadata": {},
   "source": [
    "Observations:\n",
    "- This performance of the baseline model is not bad. Although we used a tree-based model, i.e. Random Forest, instead of a linear model. The model seems to be underfitting based on the results train and test R\\u00b2 metric. An R\\u00b2 value of 0.7 means that 70% of the variance in the dependent vairable can be explained by the independent variables. It is important to note that R\\u00b2 is not a measure of accuracy in an absolute sense. In other words, the model has a good level of explanatory power.\n",
    "- Mean Absolute Error of 63k suggests that the average magnitude of errors is plus or minus 63k. If we look at the standard deviation of the prices, i.e. 162k, MAE is lesser than SD, which says that this MAE might actually be acceptable as a baseline.\n",
    "- We can consider the following methods to improve on the performance\n",
    "    - Integrate more features like: distance to school, distance to mrt, etc. These features will most likely improve the predictive power because intuitively, it makes sense.\n",
    "    - Try more advanced tree-boosting algorithms like xgboost or lightgbm. Since model is already underfitting, we can try a complex algorithm and capture most of the underlying patterns. When overfitting occurs, which is likely, we can proceed with dealing with it using regularizations and hyperparamter tuning. \n",
    "    - Before we go deep into hyperparameter tuning, we need to perform error analysis, i.e. identify wrongly predicted predictions and understand what caused it. Then, we can pay attention to how to treat outliers and impute missing values."
   ]
  },
  {
   "cell_type": "markdown",
   "metadata": {},
   "source": []
  }
 ],
 "metadata": {
  "kernelspec": {
   "display_name": "resale-prop-analysis-z8Iw6NTN-py3.12",
   "language": "python",
   "name": "python3"
  },
  "language_info": {
   "codemirror_mode": {
    "name": "ipython",
    "version": 3
   },
   "file_extension": ".py",
   "mimetype": "text/x-python",
   "name": "python",
   "nbconvert_exporter": "python",
   "pygments_lexer": "ipython3",
   "version": "3.12.1"
  }
 },
 "nbformat": 4,
 "nbformat_minor": 2
}
